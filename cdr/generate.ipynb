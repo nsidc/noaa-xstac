{
 "cells": [
  {
   "cell_type": "markdown",
   "id": "a7e3cac2-2ea7-401c-bb0f-1280c33bcc84",
   "metadata": {},
   "source": [
    "Generate STAC Collections for NOAA Climate Data Record"
   ]
  },
  {
   "cell_type": "code",
   "execution_count": 26,
   "id": "daabbb27-6abf-4e30-ad03-40f0124926b4",
   "metadata": {},
   "outputs": [],
   "source": [
    "import sys\n",
    "from datetime import datetime\n",
    "import argparse\n",
    "import json\n",
    "import fsspec\n",
    "import numpy\n",
    "import pandas as pd\n",
    "import packaging\n",
    "import xarray as xr\n",
    "from pathlib import Path\n",
    "import earthpy as et\n",
    "\n",
    "import xstac\n",
    "import pystac\n",
    "import shapely.geometry"
   ]
  },
  {
   "cell_type": "code",
   "execution_count": 2,
   "id": "7b526471-fc0a-4312-af12-15b79da5a540",
   "metadata": {},
   "outputs": [],
   "source": [
    "BBOX = {\n",
    "    \"north\": [31.1, -180, 89.84, 180],\n",
    "    \"south\": [-89.84, -180, -39.36, 180],\n",
    "}\n",
    "    "
   ]
  },
  {
   "cell_type": "code",
   "execution_count": 3,
   "id": "89b4772c-9b64-45c6-ac0e-8bbf8192c51f",
   "metadata": {},
   "outputs": [],
   "source": [
    "DESC = {\n",
    "    \"daily\":\"\",\n",
    "    \"monthly\":\"\",\n",
    "    \"aggregate\":\"\",\n",
    "}"
   ]
  },
  {
   "cell_type": "code",
   "execution_count": 4,
   "id": "c5146956-57a9-4ec4-9ac6-843e88d870ef",
   "metadata": {},
   "outputs": [],
   "source": [
    "CITATION_URLS = {\n",
    "    \"daily\": \"https://doi.org/10.7265/efmz-2t65\",\n",
    "    \"monthly\": \"https://doi.org/10.7265/efmz-2t65\",\n",
    "    \"annual\": \"https://doi.org/10.7265/efmz-2t65\",\n",
    "}\n",
    "\n",
    "CITATION = {(\"Meier, W. N., F. Fetterer, A. K. Windnagel, and S. Stewart. 2021. NOAA/NSIDC Climate Data Record of Passive Microwave Sea Ice Concentration, Version 4.\"\n",
    "             \"[Indicate subset used]. Boulder, Colorado, USA. NSIDC: National Snow and Ice Data Center https://doi.org/10.7265/efmz-2t65.\")}"
   ]
  },
  {
   "cell_type": "code",
   "execution_count": 5,
   "id": "d207b4f7-1afa-42d2-ad49-7bada32183c1",
   "metadata": {},
   "outputs": [],
   "source": [
    "FREQUENCIES = [\"daily\", \"monthly\"]\n",
    "# TODO: Add aggregate later"
   ]
  },
  {
   "cell_type": "code",
   "execution_count": 6,
   "id": "6ae3f984-d05a-47c9-a335-b18f85fe44a3",
   "metadata": {},
   "outputs": [],
   "source": [
    "REGIONS = [\"north\", \"south\"]"
   ]
  },
  {
   "cell_type": "code",
   "execution_count": 7,
   "id": "dd36a625-22bc-4358-b276-4343ef271b8f",
   "metadata": {},
   "outputs": [],
   "source": [
    "# Unsure if this is correct\n",
    "NETCDF_MEDIA_TYPE = pystac.MediaType.HDF"
   ]
  },
  {
   "cell_type": "code",
   "execution_count": 8,
   "id": "4af61192-c9cc-44c2-a2bf-fe2b0ec4804c",
   "metadata": {},
   "outputs": [
    {
     "name": "stdout",
     "output_type": "stream",
     "text": [
      "['1978', '1979', '1980', '1981', '1982', '1983', '1984', '1985', '1986', '1987', '1988', '1989', '1990', '1991', '1992', '1993', '1994', '1995', '1996', '1997', '1998', '1999', '2000', '2001', '2002', '2003', '2004', '2005', '2006', '2007', '2008', '2009', '2010', '2011', '2012', '2013', '2014', '2015', '2016', '2017', '2018', '2019', '2020', '2021', '2022', '2023', '2024']\n"
     ]
    }
   ],
   "source": [
    "# Generate list of years\n",
    "start_year = (datetime(1978, 1, 1).year)\n",
    "current_year = (datetime.now()).year\n",
    "years = list(range(start_year, 1 + current_year))\n",
    "str_years = [str(year) for year in years]\n",
    "print(str_years)"
   ]
  },
  {
   "cell_type": "code",
   "execution_count": 9,
   "id": "db03bd74-34fa-4cef-9021-3bbc9345aaa4",
   "metadata": {},
   "outputs": [],
   "source": [
    "months = [\"01\", \"02\", \"03\", \"04\", \"05\", \"06\", \"07\", \"08\", \"09\", \"10\", \"11\", \"12\"]"
   ]
  },
  {
   "cell_type": "code",
   "execution_count": 10,
   "id": "555d7154-1a69-42dd-b5cb-15de20b9498b",
   "metadata": {},
   "outputs": [
    {
     "name": "stdout",
     "output_type": "stream",
     "text": [
      "['001', '002', '003', '004', '005', '006', '007', '008', '009', '010', '011', '012', '013', '014', '015', '016', '017', '018', '019', '020', '021', '022', '023', '024', '025', '026', '027', '028', '029', '030', '031', '032', '033', '034', '035', '036', '037', '038', '039', '040', '041', '042', '043', '044', '045', '046', '047', '048', '049', '050', '051', '052', '053', '054', '055', '056', '057', '058', '059', '060', '061', '062', '063', '064', '065', '066', '067', '068', '069', '070', '071', '072', '073', '074', '075', '076', '077', '078', '079', '080', '081', '082', '083', '084', '085', '086', '087', '088', '089', '090', '091', '092', '093', '094', '095', '096', '097', '098', '099', '100', '101', '102', '103', '104', '105', '106', '107', '108', '109', '110', '111', '112', '113', '114', '115', '116', '117', '118', '119', '120', '121', '122', '123', '124', '125', '126', '127', '128', '129', '130', '131', '132', '133', '134', '135', '136', '137', '138', '139', '140', '141', '142', '143', '144', '145', '146', '147', '148', '149', '150', '151', '152', '153', '154', '155', '156', '157', '158', '159', '160', '161', '162', '163', '164', '165', '166', '167', '168', '169', '170', '171', '172', '173', '174', '175', '176', '177', '178', '179', '180', '181', '182', '183', '184', '185', '186', '187', '188', '189', '190', '191', '192', '193', '194', '195', '196', '197', '198', '199', '200', '201', '202', '203', '204', '205', '206', '207', '208', '209', '210', '211', '212', '213', '214', '215', '216', '217', '218', '219', '220', '221', '222', '223', '224', '225', '226', '227', '228', '229', '230', '231', '232', '233', '234', '235', '236', '237', '238', '239', '240', '241', '242', '243', '244', '245', '246', '247', '248', '249', '250', '251', '252', '253', '254', '255', '256', '257', '258', '259', '260', '261', '262', '263', '264', '265', '266', '267', '268', '269', '270', '271', '272', '273', '274', '275', '276', '277', '278', '279', '280', '281', '282', '283', '284', '285', '286', '287', '288', '289', '290', '291', '292', '293', '294', '295', '296', '297', '298', '299', '300', '301', '302', '303', '304', '305', '306', '307', '308', '309', '310', '311', '312', '313', '314', '315', '316', '317', '318', '319', '320', '321', '322', '323', '324', '325', '326', '327', '328', '329', '330', '331', '332', '333', '334', '335', '336', '337', '338', '339', '340', '341', '342', '343', '344', '345', '346', '347', '348', '349', '350', '351', '352', '353', '354', '355', '356', '357', '358', '359', '360', '361', '362', '363', '364', '365']\n"
     ]
    }
   ],
   "source": [
    "doys = list(range(1, 366))\n",
    "str_doys = [str(doy) for doy in doys]\n",
    "doys1 = [ \"00\"+doy for doy in str_doys if len(doy)==1]\n",
    "doys2 = [ \"0\"+doy for doy in str_doys if len(doy)==2]\n",
    "doys3 = [doy for doy in str_doys  if len(doy)==3]\n",
    "full_doys = doys1 + doys2 + doys3\n",
    "print(full_doys)"
   ]
  },
  {
   "cell_type": "code",
   "execution_count": 11,
   "id": "20f6ba08-425c-4315-a0b9-bc7da187e0ce",
   "metadata": {},
   "outputs": [],
   "source": [
    "def parse_args(args=None):\n",
    "    parser = argparse.ArgumentParser(usage=__doc__)\n",
    "    parser.add_argument(\n",
    "        \"--region\", type=str, choices=[\"both\", \"north\", \"south\"], default=\"both\"\n",
    "    )\n",
    "    parser.add_argument(\n",
    "        \"--frequency\",\n",
    "        type=str,\n",
    "        choices=[\"all\", \"daily\", \"monthly\"], #aggregate\n",
    "        default=\"all\",\n",
    "    )\n",
    "    parser.add_argument(\n",
    "        \"--year\",\n",
    "        type=str,\n",
    "        choices=str_years,\n",
    "        default='1980',\n",
    "    )\n",
    "    return parser.parse_args(args)"
   ]
  },
  {
   "cell_type": "code",
   "execution_count": 12,
   "id": "2de7cef6-1d15-4ac1-a158-2ded0e11fbc2",
   "metadata": {},
   "outputs": [],
   "source": [
    "#url = (\"https://noaadata.apps.nsidc.org/NOAA/G02202_V4/south/monthly/seaice_conc_monthly_sh_197902_n07_v04r00.nc\")\n",
    "# file = \"~/Downloads/seaice_conc_monthly_sh_197811_n07_v04r00.nc\"\n",
    "# data = et.data.get_data(url=url)\n",
    "# ds = xr.open_dataset(data)\n",
    "# print(ds)"
   ]
  },
  {
   "cell_type": "code",
   "execution_count": null,
   "id": "e4a3364a-8875-4594-b49a-a6ceef4b35f1",
   "metadata": {},
   "outputs": [],
   "source": []
  },
  {
   "cell_type": "code",
   "execution_count": 23,
   "id": "008751a2-6a40-4834-8bec-0c1a1d0b06b9",
   "metadata": {},
   "outputs": [],
   "source": [
    "def generate(frequency, region, year):\n",
    "\n",
    "    collection_template = {\n",
    "        \"id\": f\"seaiceClimateDataRecordV4-{frequency}-{region}\",\n",
    "        \"stac_extensions\": [\n",
    "            \"https://stac-extensions.github.io/scientific/v1.0.0/schema.json\"\n",
    "        ],\n",
    "        \"description\": \"{{ collection.description }}\",\n",
    "        \"type\": \"Collection\",\n",
    "        \"title\": f\"NOAA/NSIDC passive microwave sea ice concentration climate data record {frequency.title()} {region}\",\n",
    "        \"license\": \"proprietary\",\n",
    "        \"keywords\": [\n",
    "            \"EARTH SCIENCE\",\n",
    "            \"CRYOSPHERE\",\n",
    "            \"SEA ICE\",\n",
    "            \"SEA ICE CONCENTRATION\",\n",
    "            \"Polar\",\n",
    "        ],\n",
    "        \"stac_version\": \"1.0.0\",\n",
    "        \"links\": [\n",
    "            {\n",
    "                \"rel\": \"license\",\n",
    "                \"title\": \"EOSDIS Data Use Policy\",\n",
    "                \"href\": \"https://science.nasa.gov/earth-science/earth-science-data/data-information-policy\",\n",
    "            },\n",
    "            {\"rel\": \"cite-as\", \"href\": CITATION},\n",
    "        ],\n",
    "        \"extent\": {\n",
    "            \"spatial\": {\"bbox\": [BBOX[region]]},\n",
    "            },\n",
    "        \"providers\": [\n",
    "            {\n",
    "                \"name\": \"NOAA at the National Snow and Ice Data Center\",\n",
    "                \"roles\": [\"licensor\", \"host\", \"processor\"],\n",
    "                \"url\": \"https://nsidc.org/data\",\n",
    "            },\n",
    "        ],\n",
    "        \"assets\": {\n",
    "            \"netcdf-https\": {\n",
    "                \"href\": f\"https://noaadata.apps.nsidc.org/NOAA/G02202_V4/{region}/{frequency}.nc\",\n",
    "                \"type\": \"application/x-hdf\",\n",
    "                \"roles\": [\"data\", \"netcdf4\", \"https\"]},\n",
    "               #  \"xarray:open_kwargs\": {\"consolidated\": True},\n",
    "        },\n",
    "        \"sci:doi\": CITATION_URLS,\n",
    "        \"sci:citation\": CITATION,\n",
    "    }\n",
    "\n",
    "    \n",
    "    if region == \"north\":\n",
    "        region_sn = \"nh\"\n",
    "    else:\n",
    "        region_sn = \"sh\"\n",
    "\n",
    "    if frequency == \"daily\":\n",
    "        # for doy in doys: \n",
    "        filepath_url = f\"https://noaadata.apps.nsidc.org/NOAA/G02202_V4/{region}/daily/{year}\" # /seaice_conc_daily_{region_sn}_{year}{doy}_n07_v04r00.nc\"\n",
    "        fs = fsspec.filesystem('https') #, host=host)\n",
    "        url = filepath_url\n",
    "        files = [f for f in fs.find(url) if f.endswith('.nc')]\n",
    "        with fs.open(files[0]) as f:\n",
    "            ds = xr.open_dataset(f)\n",
    "    elif frequency == \"monthly\":\n",
    "        # for month in months:\n",
    "        filepath_url = f\"https://noaadata.apps.nsidc.org/NOAA/G02202_V4/{region}/monthly\" # /seaice_conc_monthly_{region_sn}_{year}{month}_n07_v04r00.nc\" \n",
    "        fs = fsspec.filesystem('https') #, host=host)\n",
    "        url = filepath_url\n",
    "        files = [f for f in fs.find(url) if f.endswith('.nc')]\n",
    "        \n",
    "        with fs.open(files[0]) as f:\n",
    "            ds = xr.open_dataset(f)\n",
    "\n",
    "\n",
    "\n",
    "    collection = xstac.xarray_to_stac(\n",
    "        ds,\n",
    "        collection_template,\n",
    "        temporal_dimension=\"time\",\n",
    "        x_dimension=\"x\",\n",
    "        y_dimension=\"y\",\n",
    "    )\n",
    "    collection.remove_links(pystac.RelType.SELF)\n",
    "    collection.remove_links(pystac.RelType.ROOT)\n",
    "    collection_result = collection.to_dict(include_self_link=False)\n",
    "    \n",
    "    item_template = {\n",
    "        \"id\": f\"cdr-{frequency}-{region}\",\n",
    "        \"type\": \"Feature\",\n",
    "        \"links\": [],\n",
    "        \"bbox\": BBOX[region],\n",
    "        \"geometry\": shapely.geometry.mapping(shapely.geometry.box(*BBOX[region])),\n",
    "        \"stac_version\": \"1.0.0\",\n",
    "        \"properties\": {\"start_datetime\": None, \"end_datetime\": None},\n",
    "        \"assets\": {\n",
    "            \"hdf-https\": {\n",
    "                \"href\": f\"https://noaadata.apps.nsidc.org/NOAA/G02202_V4/{region}/{frequency}.nc\",\n",
    "                \"type\": \"application/x-hdf\",\n",
    "                \"title\": f\"{frequency.title()} {region} CDR HTTPS NetCDF root\",\n",
    "                \"description\": f\"HTTPS URI of the {frequency} {region} Climate Data Record.\",  # noqa: E501\n",
    "                \"roles\": [\"data\", \"hdf\", \"https\"],\n",
    "                \"xarray:open_kwargs\": {\"consolidated\": True},\n",
    "            },\n",
    "        },\n",
    "    }\n",
    "    item = xstac.xarray_to_stac(\n",
    "        ds, item_template, temporal_dimension=\"time\", x_dimension=\"x\", y_dimension=\"y\"\n",
    "    )\n",
    "    \n",
    "    item_result = item.to_dict(include_self_link=False)\n",
    "    return collection_result, item_result\n",
    "\n"
   ]
  },
  {
   "cell_type": "code",
   "execution_count": 17,
   "id": "c5510224-ec55-4f83-9f7d-7b97dac6dd8b",
   "metadata": {},
   "outputs": [],
   "source": [
    "def main(args=None):\n",
    "    args = parse_args(args)\n",
    "    region = args.region\n",
    "    frequency = args.frequency\n",
    "    year = args.year\n",
    "\n",
    "    if region == \"all\":\n",
    "        regions = list(REGIONS)\n",
    "    else: \n",
    "        regions = [region]\n",
    "\n",
    "    if frequency == \"all\":\n",
    "        frequencies = FREQUENCIES\n",
    "    else:\n",
    "        frequencies = [frequency]\n",
    "\n",
    "    for year in years:\n",
    "        for region in regions:\n",
    "            for frequency in frequencies:\n",
    "                collection, item = general(frequency, region)\n",
    "                outfile = Path(__file__).parent/f\"{frequency}{region}collection.json\"\n",
    "                outfile.parent.mkdir(exist_ok=True, parents=True)\n",
    "                with open(outfile, \"w\") as f:\n",
    "                    json.dump(collection, f, indent=2)\n",
    "                outfile = Path(__file__).parent / f\"{frequency}/{region}/{year}/item.json\"\n",
    "                with open(outfile, \"w\") as f:\n",
    "                    json.dump(item, f, indent=2)\n",
    "\n",
    "    if __name__ == \"__main__\":\n",
    "        sys.exit(main())\n",
    "\n",
    "\n",
    "\n"
   ]
  },
  {
   "cell_type": "code",
   "execution_count": 27,
   "id": "40a3a814-a139-47cd-9f38-e38d84f98e96",
   "metadata": {},
   "outputs": [
    {
     "name": "stdout",
     "output_type": "stream",
     "text": [
      "542\n"
     ]
    },
    {
     "ename": "ValueError",
     "evalue": "found the following matches with the input file in xarray's IO backends: ['h5netcdf']. But their dependencies may not be installed, see:\nhttps://docs.xarray.dev/en/stable/user-guide/io.html \nhttps://docs.xarray.dev/en/stable/getting-started-guide/installing.html",
     "output_type": "error",
     "traceback": [
      "\u001b[0;31m---------------------------------------------------------------------------\u001b[0m",
      "\u001b[0;31mValueError\u001b[0m                                Traceback (most recent call last)",
      "Cell \u001b[0;32mIn[27], line 7\u001b[0m\n\u001b[1;32m      5\u001b[0m \u001b[38;5;28mprint\u001b[39m(\u001b[38;5;28mlen\u001b[39m(files))\n\u001b[1;32m      6\u001b[0m \u001b[38;5;28;01mwith\u001b[39;00m fs\u001b[38;5;241m.\u001b[39mopen(files[\u001b[38;5;241m0\u001b[39m]) \u001b[38;5;28;01mas\u001b[39;00m f:\n\u001b[0;32m----> 7\u001b[0m     ds \u001b[38;5;241m=\u001b[39m \u001b[43mxr\u001b[49m\u001b[38;5;241;43m.\u001b[39;49m\u001b[43mopen_dataset\u001b[49m\u001b[43m(\u001b[49m\u001b[43mf\u001b[49m\u001b[43m)\u001b[49m\n",
      "File \u001b[0;32m~/mambaforge/envs/noaa-ai/lib/python3.11/site-packages/xarray/backends/api.py:552\u001b[0m, in \u001b[0;36mopen_dataset\u001b[0;34m(filename_or_obj, engine, chunks, cache, decode_cf, mask_and_scale, decode_times, decode_timedelta, use_cftime, concat_characters, decode_coords, drop_variables, inline_array, chunked_array_type, from_array_kwargs, backend_kwargs, **kwargs)\u001b[0m\n\u001b[1;32m    549\u001b[0m     kwargs\u001b[38;5;241m.\u001b[39mupdate(backend_kwargs)\n\u001b[1;32m    551\u001b[0m \u001b[38;5;28;01mif\u001b[39;00m engine \u001b[38;5;129;01mis\u001b[39;00m \u001b[38;5;28;01mNone\u001b[39;00m:\n\u001b[0;32m--> 552\u001b[0m     engine \u001b[38;5;241m=\u001b[39m \u001b[43mplugins\u001b[49m\u001b[38;5;241;43m.\u001b[39;49m\u001b[43mguess_engine\u001b[49m\u001b[43m(\u001b[49m\u001b[43mfilename_or_obj\u001b[49m\u001b[43m)\u001b[49m\n\u001b[1;32m    554\u001b[0m \u001b[38;5;28;01mif\u001b[39;00m from_array_kwargs \u001b[38;5;129;01mis\u001b[39;00m \u001b[38;5;28;01mNone\u001b[39;00m:\n\u001b[1;32m    555\u001b[0m     from_array_kwargs \u001b[38;5;241m=\u001b[39m {}\n",
      "File \u001b[0;32m~/mambaforge/envs/noaa-ai/lib/python3.11/site-packages/xarray/backends/plugins.py:197\u001b[0m, in \u001b[0;36mguess_engine\u001b[0;34m(store_spec)\u001b[0m\n\u001b[1;32m    189\u001b[0m \u001b[38;5;28;01melse\u001b[39;00m:\n\u001b[1;32m    190\u001b[0m     error_msg \u001b[38;5;241m=\u001b[39m (\n\u001b[1;32m    191\u001b[0m         \u001b[38;5;124m\"\u001b[39m\u001b[38;5;124mfound the following matches with the input file in xarray\u001b[39m\u001b[38;5;124m'\u001b[39m\u001b[38;5;124ms IO \u001b[39m\u001b[38;5;124m\"\u001b[39m\n\u001b[1;32m    192\u001b[0m         \u001b[38;5;124mf\u001b[39m\u001b[38;5;124m\"\u001b[39m\u001b[38;5;124mbackends: \u001b[39m\u001b[38;5;132;01m{\u001b[39;00mcompatible_engines\u001b[38;5;132;01m}\u001b[39;00m\u001b[38;5;124m. But their dependencies may not be installed, see:\u001b[39m\u001b[38;5;130;01m\\n\u001b[39;00m\u001b[38;5;124m\"\u001b[39m\n\u001b[1;32m    193\u001b[0m         \u001b[38;5;124m\"\u001b[39m\u001b[38;5;124mhttps://docs.xarray.dev/en/stable/user-guide/io.html \u001b[39m\u001b[38;5;130;01m\\n\u001b[39;00m\u001b[38;5;124m\"\u001b[39m\n\u001b[1;32m    194\u001b[0m         \u001b[38;5;124m\"\u001b[39m\u001b[38;5;124mhttps://docs.xarray.dev/en/stable/getting-started-guide/installing.html\u001b[39m\u001b[38;5;124m\"\u001b[39m\n\u001b[1;32m    195\u001b[0m     )\n\u001b[0;32m--> 197\u001b[0m \u001b[38;5;28;01mraise\u001b[39;00m \u001b[38;5;167;01mValueError\u001b[39;00m(error_msg)\n",
      "\u001b[0;31mValueError\u001b[0m: found the following matches with the input file in xarray's IO backends: ['h5netcdf']. But their dependencies may not be installed, see:\nhttps://docs.xarray.dev/en/stable/user-guide/io.html \nhttps://docs.xarray.dev/en/stable/getting-started-guide/installing.html"
     ]
    }
   ],
   "source": [
    "fs = fsspec.filesystem('https') #, host=host)\n",
    "url = f\"https://noaadata.apps.nsidc.org/NOAA/G02202_V4/north/monthly\"\n",
    "files = [f for f in fs.find(url) if f.endswith('.nc')]\n",
    "# print(files)\n",
    "print(len(files))\n",
    "with fs.open(files[0]) as f:\n",
    "    ds = xr.open_dataset(f)"
   ]
  },
  {
   "cell_type": "code",
   "execution_count": 24,
   "id": "87540a1c-e238-4fda-9622-29e33ce1499b",
   "metadata": {},
   "outputs": [
    {
     "ename": "ValueError",
     "evalue": "found the following matches with the input file in xarray's IO backends: ['h5netcdf']. But their dependencies may not be installed, see:\nhttps://docs.xarray.dev/en/stable/user-guide/io.html \nhttps://docs.xarray.dev/en/stable/getting-started-guide/installing.html",
     "output_type": "error",
     "traceback": [
      "\u001b[0;31m---------------------------------------------------------------------------\u001b[0m",
      "\u001b[0;31mValueError\u001b[0m                                Traceback (most recent call last)",
      "Cell \u001b[0;32mIn[24], line 1\u001b[0m\n\u001b[0;32m----> 1\u001b[0m cr, ir \u001b[38;5;241m=\u001b[39m \u001b[43mgenerate\u001b[49m\u001b[43m(\u001b[49m\u001b[38;5;124;43m'\u001b[39;49m\u001b[38;5;124;43mmonthly\u001b[39;49m\u001b[38;5;124;43m'\u001b[39;49m\u001b[43m,\u001b[49m\u001b[43m \u001b[49m\u001b[38;5;124;43m'\u001b[39;49m\u001b[38;5;124;43mnorth\u001b[39;49m\u001b[38;5;124;43m'\u001b[39;49m\u001b[43m,\u001b[49m\u001b[43m \u001b[49m\u001b[38;5;124;43m'\u001b[39;49m\u001b[38;5;124;43m1999\u001b[39;49m\u001b[38;5;124;43m'\u001b[39;49m\u001b[43m)\u001b[49m\n",
      "Cell \u001b[0;32mIn[23], line 71\u001b[0m, in \u001b[0;36mgenerate\u001b[0;34m(frequency, region, year)\u001b[0m\n\u001b[1;32m     68\u001b[0m     files \u001b[38;5;241m=\u001b[39m [f \u001b[38;5;28;01mfor\u001b[39;00m f \u001b[38;5;129;01min\u001b[39;00m fs\u001b[38;5;241m.\u001b[39mfind(url) \u001b[38;5;28;01mif\u001b[39;00m f\u001b[38;5;241m.\u001b[39mendswith(\u001b[38;5;124m'\u001b[39m\u001b[38;5;124m.nc\u001b[39m\u001b[38;5;124m'\u001b[39m)]\n\u001b[1;32m     70\u001b[0m     \u001b[38;5;28;01mwith\u001b[39;00m fs\u001b[38;5;241m.\u001b[39mopen(files[\u001b[38;5;241m0\u001b[39m]) \u001b[38;5;28;01mas\u001b[39;00m f:\n\u001b[0;32m---> 71\u001b[0m         ds \u001b[38;5;241m=\u001b[39m \u001b[43mxr\u001b[49m\u001b[38;5;241;43m.\u001b[39;49m\u001b[43mopen_dataset\u001b[49m\u001b[43m(\u001b[49m\u001b[43mf\u001b[49m\u001b[43m)\u001b[49m\n\u001b[1;32m     75\u001b[0m collection \u001b[38;5;241m=\u001b[39m xstac\u001b[38;5;241m.\u001b[39mxarray_to_stac(\n\u001b[1;32m     76\u001b[0m     ds,\n\u001b[1;32m     77\u001b[0m     collection_template,\n\u001b[0;32m   (...)\u001b[0m\n\u001b[1;32m     80\u001b[0m     y_dimension\u001b[38;5;241m=\u001b[39m\u001b[38;5;124m\"\u001b[39m\u001b[38;5;124my\u001b[39m\u001b[38;5;124m\"\u001b[39m,\n\u001b[1;32m     81\u001b[0m )\n\u001b[1;32m     82\u001b[0m collection\u001b[38;5;241m.\u001b[39mremove_links(pystac\u001b[38;5;241m.\u001b[39mRelType\u001b[38;5;241m.\u001b[39mSELF)\n",
      "File \u001b[0;32m~/mambaforge/envs/noaa-ai/lib/python3.11/site-packages/xarray/backends/api.py:552\u001b[0m, in \u001b[0;36mopen_dataset\u001b[0;34m(filename_or_obj, engine, chunks, cache, decode_cf, mask_and_scale, decode_times, decode_timedelta, use_cftime, concat_characters, decode_coords, drop_variables, inline_array, chunked_array_type, from_array_kwargs, backend_kwargs, **kwargs)\u001b[0m\n\u001b[1;32m    549\u001b[0m     kwargs\u001b[38;5;241m.\u001b[39mupdate(backend_kwargs)\n\u001b[1;32m    551\u001b[0m \u001b[38;5;28;01mif\u001b[39;00m engine \u001b[38;5;129;01mis\u001b[39;00m \u001b[38;5;28;01mNone\u001b[39;00m:\n\u001b[0;32m--> 552\u001b[0m     engine \u001b[38;5;241m=\u001b[39m \u001b[43mplugins\u001b[49m\u001b[38;5;241;43m.\u001b[39;49m\u001b[43mguess_engine\u001b[49m\u001b[43m(\u001b[49m\u001b[43mfilename_or_obj\u001b[49m\u001b[43m)\u001b[49m\n\u001b[1;32m    554\u001b[0m \u001b[38;5;28;01mif\u001b[39;00m from_array_kwargs \u001b[38;5;129;01mis\u001b[39;00m \u001b[38;5;28;01mNone\u001b[39;00m:\n\u001b[1;32m    555\u001b[0m     from_array_kwargs \u001b[38;5;241m=\u001b[39m {}\n",
      "File \u001b[0;32m~/mambaforge/envs/noaa-ai/lib/python3.11/site-packages/xarray/backends/plugins.py:197\u001b[0m, in \u001b[0;36mguess_engine\u001b[0;34m(store_spec)\u001b[0m\n\u001b[1;32m    189\u001b[0m \u001b[38;5;28;01melse\u001b[39;00m:\n\u001b[1;32m    190\u001b[0m     error_msg \u001b[38;5;241m=\u001b[39m (\n\u001b[1;32m    191\u001b[0m         \u001b[38;5;124m\"\u001b[39m\u001b[38;5;124mfound the following matches with the input file in xarray\u001b[39m\u001b[38;5;124m'\u001b[39m\u001b[38;5;124ms IO \u001b[39m\u001b[38;5;124m\"\u001b[39m\n\u001b[1;32m    192\u001b[0m         \u001b[38;5;124mf\u001b[39m\u001b[38;5;124m\"\u001b[39m\u001b[38;5;124mbackends: \u001b[39m\u001b[38;5;132;01m{\u001b[39;00mcompatible_engines\u001b[38;5;132;01m}\u001b[39;00m\u001b[38;5;124m. But their dependencies may not be installed, see:\u001b[39m\u001b[38;5;130;01m\\n\u001b[39;00m\u001b[38;5;124m\"\u001b[39m\n\u001b[1;32m    193\u001b[0m         \u001b[38;5;124m\"\u001b[39m\u001b[38;5;124mhttps://docs.xarray.dev/en/stable/user-guide/io.html \u001b[39m\u001b[38;5;130;01m\\n\u001b[39;00m\u001b[38;5;124m\"\u001b[39m\n\u001b[1;32m    194\u001b[0m         \u001b[38;5;124m\"\u001b[39m\u001b[38;5;124mhttps://docs.xarray.dev/en/stable/getting-started-guide/installing.html\u001b[39m\u001b[38;5;124m\"\u001b[39m\n\u001b[1;32m    195\u001b[0m     )\n\u001b[0;32m--> 197\u001b[0m \u001b[38;5;28;01mraise\u001b[39;00m \u001b[38;5;167;01mValueError\u001b[39;00m(error_msg)\n",
      "\u001b[0;31mValueError\u001b[0m: found the following matches with the input file in xarray's IO backends: ['h5netcdf']. But their dependencies may not be installed, see:\nhttps://docs.xarray.dev/en/stable/user-guide/io.html \nhttps://docs.xarray.dev/en/stable/getting-started-guide/installing.html"
     ]
    }
   ],
   "source": [
    "cr, ir = generate('monthly', 'north', '1999')"
   ]
  },
  {
   "cell_type": "code",
   "execution_count": null,
   "id": "e1f37461-b044-49ad-b78a-912ed5240f96",
   "metadata": {},
   "outputs": [],
   "source": []
  }
 ],
 "metadata": {
  "kernelspec": {
   "display_name": "Python 3 (ipykernel)",
   "language": "python",
   "name": "python3"
  },
  "language_info": {
   "codemirror_mode": {
    "name": "ipython",
    "version": 3
   },
   "file_extension": ".py",
   "mimetype": "text/x-python",
   "name": "python",
   "nbconvert_exporter": "python",
   "pygments_lexer": "ipython3",
   "version": "3.11.9"
  }
 },
 "nbformat": 4,
 "nbformat_minor": 5
}
