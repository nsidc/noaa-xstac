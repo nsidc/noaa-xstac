{
 "cells": [
  {
   "cell_type": "markdown",
   "id": "a7e3cac2-2ea7-401c-bb0f-1280c33bcc84",
   "metadata": {},
   "source": [
    "Generate STAC Collections for NOAA Climate Data Record"
   ]
  },
  {
   "cell_type": "code",
   "execution_count": 1,
   "id": "daabbb27-6abf-4e30-ad03-40f0124926b4",
   "metadata": {},
   "outputs": [],
   "source": [
    "import sys\n",
    "from datetime import datetime\n",
    "import argparse\n",
    "import json\n",
    "import fsspec\n",
    "import xarray as xr\n",
    "from pathlib import Path\n",
    "\n",
    "import xstac\n",
    "import pystac\n",
    "import shapely.geometry"
   ]
  },
  {
   "cell_type": "code",
   "execution_count": 2,
   "id": "7b526471-fc0a-4312-af12-15b79da5a540",
   "metadata": {},
   "outputs": [],
   "source": [
    "BBOX = {\n",
    "    \"north\": [31.1, -180, 89.84, 180],\n",
    "    \"south\": [-89.84, -180, -39.36, 180],\n",
    "}\n",
    "    "
   ]
  },
  {
   "cell_type": "code",
   "execution_count": 3,
   "id": "89b4772c-9b64-45c6-ac0e-8bbf8192c51f",
   "metadata": {},
   "outputs": [],
   "source": [
    "DESC = {\n",
    "    \"daily\":\"\",\n",
    "    \"monthly\":\"\",\n",
    "    \"aggregate\":\"\",\n",
    "}"
   ]
  },
  {
   "cell_type": "code",
   "execution_count": 4,
   "id": "c5146956-57a9-4ec4-9ac6-843e88d870ef",
   "metadata": {},
   "outputs": [],
   "source": [
    "CITATION_URLS = {\n",
    "    \"daily\": \"https://doi.org/10.7265/efmz-2t65\",\n",
    "    \"monthly\": \"https://doi.org/10.7265/efmz-2t65\",\n",
    "    \"annual\": \"https://doi.org/10.7265/efmz-2t65\",\n",
    "}\n",
    "\n",
    "CITATION = {(\"Meier, W. N., F. Fetterer, A. K. Windnagel, and S. Stewart. 2021. NOAA/NSIDC Climate Data Record of Passive Microwave Sea Ice Concentration, Version 4.\"\n",
    "             \"[Indicate subset used]. Boulder, Colorado, USA. NSIDC: National Snow and Ice Data Center https://doi.org/10.7265/efmz-2t65.\")}"
   ]
  },
  {
   "cell_type": "code",
   "execution_count": 5,
   "id": "d207b4f7-1afa-42d2-ad49-7bada32183c1",
   "metadata": {},
   "outputs": [],
   "source": [
    "FREQUENCIES = [\"daily\", \"monthly\"]\n",
    "# TODO: Add aggregate later"
   ]
  },
  {
   "cell_type": "code",
   "execution_count": 14,
   "id": "6ae3f984-d05a-47c9-a335-b18f85fe44a3",
   "metadata": {},
   "outputs": [],
   "source": [
    "REGIONS = [\"north\", \"south\"]"
   ]
  },
  {
   "cell_type": "code",
   "execution_count": 6,
   "id": "dd36a625-22bc-4358-b276-4343ef271b8f",
   "metadata": {},
   "outputs": [],
   "source": [
    "# Unsure if this is correct\n",
    "NETCDF_MEDIA_TYPE = pystac.MediaType.HDF"
   ]
  },
  {
   "cell_type": "code",
   "execution_count": 7,
   "id": "4af61192-c9cc-44c2-a2bf-fe2b0ec4804c",
   "metadata": {},
   "outputs": [
    {
     "name": "stdout",
     "output_type": "stream",
     "text": [
      "[1978, 1979, 1980, 1981, 1982, 1983, 1984, 1985, 1986, 1987, 1988, 1989, 1990, 1991, 1992, 1993, 1994, 1995, 1996, 1997, 1998, 1999, 2000, 2001, 2002, 2003, 2004, 2005, 2006, 2007, 2008, 2009, 2010, 2011, 2012, 2013, 2014, 2015, 2016, 2017, 2018, 2019, 2020, 2021, 2022, 2023, 2024]\n"
     ]
    }
   ],
   "source": [
    "# Generate list of years\n",
    "start_year = (datetime(1978, 1, 1).year)\n",
    "current_year = (datetime.now()).year\n",
    "years = list(range(start_year, 1 + current_year))\n",
    "print(years)"
   ]
  },
  {
   "cell_type": "code",
   "execution_count": 8,
   "id": "20f6ba08-425c-4315-a0b9-bc7da187e0ce",
   "metadata": {},
   "outputs": [],
   "source": [
    "def parse_args(args=None):\n",
    "    parser = argparse.ArgumentParser(usage=__doc__)\n",
    "    parser.add_argument(\n",
    "        \"--region\", type=str, choices=[\"both\", \"north\", \"south\"], default=\"both\"\n",
    "    )\n",
    "    parser.add_argument(\n",
    "        \"--frequency\",\n",
    "        type=str,\n",
    "        choices=[\"all\", \"daily\", \"monthly\", \"aggregate\"],\n",
    "        default=\"all\",\n",
    "    )\n",
    "    return parser.parse_args(args)"
   ]
  },
  {
   "cell_type": "code",
   "execution_count": 20,
   "id": "008751a2-6a40-4834-8bec-0c1a1d0b06b9",
   "metadata": {},
   "outputs": [],
   "source": [
    "\n",
    "def generate(frequency, region, year):\n",
    "\n",
    "    collection_template = {\n",
    "        \"id\": f\"seaiceClimateDataRecordV4-{frequency}-{region}\",\n",
    "        \"stac_extensions\": [\n",
    "            \"https://stac-extensions.github.io/scientific/v1.0.0/schema.json\"\n",
    "        ],\n",
    "        \"description\": \"{{ collection.description }}\",\n",
    "        \"type\": \"Collection\",\n",
    "        \"title\": f\"NOAA/NSIDC passive microwave sea ice concentration climate data record {frequency.title()} {FULL_REGIONS[region]}\",\n",
    "        \"license\": \"proprietary\",\n",
    "        \"keywords\": [\n",
    "            \"EARTH SCIENCE\",\n",
    "            \"CRYOSPHERE\",\n",
    "            \"SEA ICE\",\n",
    "            \"SEA ICE CONCENTRATION\",\n",
    "            \"Polar\",\n",
    "            # maybe add more from netcdf\n",
    "        ],\n",
    "        \"stac_version\": \"1.0.0\",\n",
    "        \"links\": [\n",
    "            {\n",
    "                \"rel\": \"license\",\n",
    "                \"title\": \"EOSDIS Data Use Policy\",\n",
    "                \"href\": \"https://science.nasa.gov/earth-science/earth-science-data/data-information-policy\",\n",
    "            },\n",
    "            {\"rel\": \"cite-as\", \"href\": CITATION},\n",
    "        ],\n",
    "        \"extent\": {\n",
    "            \"spatial\": {\"bbox\": [BBOX[region]]},\n",
    "            },\n",
    "        \"providers\": [\n",
    "            {\n",
    "                \"name\": \"NOAA at the National Snow and Ice Data Center\",\n",
    "                \"roles\": [\"licensor\", \"host\", \"processor\"],\n",
    "                \"url\": \"https://nsidc.org/data\",\n",
    "            },\n",
    "        ],\n",
    "        \"assets\": {\n",
    "            \"netcdf-https\": {\n",
    "                \"href\": f\"https://noaadata.apps.nsidc.org/NOAA/G02202_V4/{region}/{frequency}.nc\",\n",
    "                \"type\": \"application/x-hdf\",\n",
    "                \"roles\": [\"data\", \"netcdf4\", \"https\"]},\n",
    "               #  \"xarray:open_kwargs\": {\"consolidated\": True},\n",
    "        },\n",
    "        \"sci:doi\": DOI_NAMES[frequency],\n",
    "        \"sci:citation\": CITATIONS[frequency],\n",
    "    }\n",
    "\n",
    "\n",
    "    if region == \"north\":\n",
    "        region_sn = \"nh\"\n",
    "    else:\n",
    "        region_sn = \"sh\"\n",
    "\n",
    "    if frequency == \"daily\":\n",
    "        filepath = f\"https://noaadata.apps.nsidc.org/NOAA/G02202_V4/{region}/{frequency}/{year}/seaice_conc_daily_{region_sn}_{year}{doy}_n07_v04r00.nc\"\n",
    "    else:\n",
    "        filepath = f\"https://noaadata.apps.nsidc.org/NOAA/G02202_V4/{region}/{frequency}/seaice_conc_monthly_{region_sn}_{year}{month}_n07_v04r00.nc\" \n",
    "\n",
    "    store = fsspec.get_mapper(\n",
    "        f\"https://noaadata.apps.nsidc.org/NOAA/G02202_V4/{region}/{frequency}/.nc)\n",
    "    ds = xr.open_dataset(\"https://noaadata.apps.nsidc.org/NOAA/G02202_V4/south/monthly/seaice_conc_monthly_sh_197902_n07_v04r00.nc\")\n",
    "\n",
    "\n",
    "    collection = xstac.xarray_to_stac(\n",
    "        ds,\n",
    "        collection_template,\n",
    "        temporal_dimension=\"time\",\n",
    "        x_dimension=\"x\",\n",
    "        y_dimension=\"y\",\n",
    "    )\n",
    "\n"
   ]
  },
  {
   "cell_type": "code",
   "execution_count": 29,
   "id": "a602747b-0f83-4925-999a-8ea88f55014e",
   "metadata": {},
   "outputs": [
    {
     "name": "stdout",
     "output_type": "stream",
     "text": [
      "<fsspec.mapping.FSMap object at 0x16588ba50>\n"
     ]
    }
   ],
   "source": [
    "store = fsspec.get_mapper(\n",
    "        f\"https://noaadata.apps.nsidc.org/NOAA/G02202_V4/north/monthly/.nc\"\n",
    ")\n",
    "print(store)"
   ]
  },
  {
   "cell_type": "code",
   "execution_count": 25,
   "id": "2de7cef6-1d15-4ac1-a158-2ded0e11fbc2",
   "metadata": {},
   "outputs": [
    {
     "name": "stdout",
     "output_type": "stream",
     "text": [
      "<xarray.Dataset> Size: 2MB\n",
      "Dimensions:                           (tdim: 1, y: 332, x: 316)\n",
      "Coordinates:\n",
      "    time                              (tdim) datetime64[ns] 8B ...\n",
      "    xgrid                             (x) float32 1kB ...\n",
      "    ygrid                             (y) float32 1kB ...\n",
      "Dimensions without coordinates: tdim, y, x\n",
      "Data variables:\n",
      "    cdr_seaice_conc_monthly           (tdim, y, x) float32 420kB ...\n",
      "    nsidc_bt_seaice_conc_monthly      (tdim, y, x) float32 420kB ...\n",
      "    nsidc_nt_seaice_conc_monthly      (tdim, y, x) float32 420kB ...\n",
      "    projection                        |S1 1B ...\n",
      "    qa_of_cdr_seaice_conc_monthly     (tdim, y, x) float32 420kB ...\n",
      "    stdev_of_cdr_seaice_conc_monthly  (tdim, y, x) float32 420kB ...\n",
      "Attributes: (12/42)\n",
      "    Conventions:               CF-1.6, ACDD-1.3\n",
      "    title:                     NOAA/NSIDC Climate Data Record of Passive Micr...\n",
      "    comment:                   none\n",
      "    program:                   NOAA Climate Data Record Program\n",
      "    cdr_variable:              cdr_seaice_conc_monthly\n",
      "    metadata_link:             https://nsidc.org/data/g02202/versions/4/\n",
      "    ...                        ...\n",
      "    platform:                  NIMBUS-7\n",
      "    sensor:                    SMMR > Scanning Multichannel Microwave Radiometer\n",
      "    date_created:              2021-06-22T15:54:57Z\n",
      "    time_coverage_start:       1978-11-01T00:00:00Z\n",
      "    time_coverage_end:         1978-11-30T23:59:59Z\n",
      "    references:                Comiso, J. C., and F. Nishio. 2008. Trends in ...\n"
     ]
    }
   ],
   "source": [
    "url = (\"https://noaadata.apps.nsidc.org/NOAA/G02202_V4/south/monthly/seaice_conc_monthly_sh_197902_n07_v04r00.nc\")\n",
    "file = \"~/Downloads/seaice_conc_monthly_sh_197811_n07_v04r00.nc\"\n",
    "ds = xr.open_dataset(file)\n",
    "print(ds)"
   ]
  },
  {
   "cell_type": "code",
   "execution_count": null,
   "id": "e4a3364a-8875-4594-b49a-a6ceef4b35f1",
   "metadata": {},
   "outputs": [],
   "source": []
  }
 ],
 "metadata": {
  "kernelspec": {
   "display_name": "Python 3 (ipykernel)",
   "language": "python",
   "name": "python3"
  },
  "language_info": {
   "codemirror_mode": {
    "name": "ipython",
    "version": 3
   },
   "file_extension": ".py",
   "mimetype": "text/x-python",
   "name": "python",
   "nbconvert_exporter": "python",
   "pygments_lexer": "ipython3",
   "version": "3.11.9"
  }
 },
 "nbformat": 4,
 "nbformat_minor": 5
}
