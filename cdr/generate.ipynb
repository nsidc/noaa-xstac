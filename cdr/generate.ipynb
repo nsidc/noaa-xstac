{
 "cells": [
  {
   "cell_type": "markdown",
   "id": "a7e3cac2-2ea7-401c-bb0f-1280c33bcc84",
   "metadata": {},
   "source": [
    "Generate STAC Collections for NOAA Climate Data Record"
   ]
  },
  {
   "cell_type": "code",
   "execution_count": 1,
   "id": "daabbb27-6abf-4e30-ad03-40f0124926b4",
   "metadata": {},
   "outputs": [],
   "source": [
    "import sys\n",
    "from datetime import datetime\n",
    "import argparse\n",
    "import json\n",
    "import fsspec\n",
    "import numpy\n",
    "import pandas as pd\n",
    "import packaging\n",
    "import xarray as xr\n",
    "import netCDF4 as nc\n",
    "from pathlib import Path\n",
    "import earthpy as et\n",
    "\n",
    "import xstac\n",
    "import pystac\n",
    "import shapely.geometry"
   ]
  },
  {
   "cell_type": "code",
   "execution_count": 2,
   "id": "7b526471-fc0a-4312-af12-15b79da5a540",
   "metadata": {},
   "outputs": [],
   "source": [
    "BBOX = {\n",
    "    \"north\": [31.1, -180, 89.84, 180],\n",
    "    \"south\": [-89.84, -180, -39.36, 180],\n",
    "}\n",
    "    "
   ]
  },
  {
   "cell_type": "code",
   "execution_count": 3,
   "id": "89b4772c-9b64-45c6-ac0e-8bbf8192c51f",
   "metadata": {},
   "outputs": [],
   "source": [
    "DESC = {\n",
    "    \"daily\":\"\",\n",
    "    \"monthly\":\"\",\n",
    "    \"aggregate\":\"\",\n",
    "}"
   ]
  },
  {
   "cell_type": "code",
   "execution_count": 4,
   "id": "c5146956-57a9-4ec4-9ac6-843e88d870ef",
   "metadata": {},
   "outputs": [],
   "source": [
    "CITATION_URLS = {\n",
    "    \"daily\": \"https://doi.org/10.7265/efmz-2t65\",\n",
    "    \"monthly\": \"https://doi.org/10.7265/efmz-2t65\",\n",
    "    \"annual\": \"https://doi.org/10.7265/efmz-2t65\",\n",
    "}\n",
    "\n",
    "CITATION = {(\"Meier, W. N., F. Fetterer, A. K. Windnagel, and S. Stewart. 2021. NOAA/NSIDC Climate Data Record of Passive Microwave Sea Ice Concentration, Version 4.\"\n",
    "             \"[Indicate subset used]. Boulder, Colorado, USA. NSIDC: National Snow and Ice Data Center https://doi.org/10.7265/efmz-2t65.\")}"
   ]
  },
  {
   "cell_type": "code",
   "execution_count": 5,
   "id": "d207b4f7-1afa-42d2-ad49-7bada32183c1",
   "metadata": {},
   "outputs": [],
   "source": [
    "FREQUENCIES = [\"daily\", \"monthly\"]\n",
    "# TODO: Add aggregate later"
   ]
  },
  {
   "cell_type": "code",
   "execution_count": 6,
   "id": "6ae3f984-d05a-47c9-a335-b18f85fe44a3",
   "metadata": {},
   "outputs": [],
   "source": [
    "REGIONS = [\"north\", \"south\"]"
   ]
  },
  {
   "cell_type": "code",
   "execution_count": 7,
   "id": "dd36a625-22bc-4358-b276-4343ef271b8f",
   "metadata": {},
   "outputs": [],
   "source": [
    "# Unsure if this is correct\n",
    "NETCDF_MEDIA_TYPE = pystac.MediaType.HDF"
   ]
  },
  {
   "cell_type": "code",
   "execution_count": 22,
   "id": "4af61192-c9cc-44c2-a2bf-fe2b0ec4804c",
   "metadata": {},
   "outputs": [],
   "source": [
    "# Generate list of years\n",
    "start_year = (datetime(1978, 1, 1).year)\n",
    "current_year = (datetime.now()).year\n",
    "years = list(range(start_year, 1 + current_year))\n",
    "str_years = [str(year) for year in years]"
   ]
  },
  {
   "cell_type": "code",
   "execution_count": 9,
   "id": "db03bd74-34fa-4cef-9021-3bbc9345aaa4",
   "metadata": {},
   "outputs": [],
   "source": [
    "months = [\"01\", \"02\", \"03\", \"04\", \"05\", \"06\", \"07\", \"08\", \"09\", \"10\", \"11\", \"12\"]"
   ]
  },
  {
   "cell_type": "code",
   "execution_count": 21,
   "id": "555d7154-1a69-42dd-b5cb-15de20b9498b",
   "metadata": {},
   "outputs": [],
   "source": [
    "doys = list(range(1, 366))\n",
    "str_doys = [str(doy) for doy in doys]\n",
    "doys1 = [ \"00\"+doy for doy in str_doys if len(doy)==1]\n",
    "doys2 = [ \"0\"+doy for doy in str_doys if len(doy)==2]\n",
    "doys3 = [doy for doy in str_doys  if len(doy)==3]\n",
    "full_doys = doys1 + doys2 + doys3"
   ]
  },
  {
   "cell_type": "code",
   "execution_count": 23,
   "id": "20f6ba08-425c-4315-a0b9-bc7da187e0ce",
   "metadata": {},
   "outputs": [],
   "source": [
    "def parse_args(args=None):\n",
    "    parser = argparse.ArgumentParser(usage=__doc__)\n",
    "    parser.add_argument(\n",
    "        \"--region\", type=str, choices=[\"both\", \"north\", \"south\"], default=\"both\"\n",
    "    )\n",
    "    parser.add_argument(\n",
    "        \"--frequency\",\n",
    "        type=str,\n",
    "        choices=[\"all\", \"daily\", \"monthly\"], #aggregate\n",
    "        default=\"all\",\n",
    "    )\n",
    "    parser.add_argument(\n",
    "        \"--year\",\n",
    "        type=str,\n",
    "        choices=str_years,\n",
    "        default='1980',\n",
    "    )\n",
    "    return parser.parse_args(args)"
   ]
  },
  {
   "cell_type": "code",
   "execution_count": 24,
   "id": "2de7cef6-1d15-4ac1-a158-2ded0e11fbc2",
   "metadata": {},
   "outputs": [],
   "source": [
    "#url = (\"https://noaadata.apps.nsidc.org/NOAA/G02202_V4/south/monthly/seaice_conc_monthly_sh_197902_n07_v04r00.nc\")\n",
    "# file = \"~/Downloads/seaice_conc_monthly_sh_197811_n07_v04r00.nc\"\n",
    "# data = et.data.get_data(url=url)\n",
    "# ds = xr.open_dataset(data)\n",
    "# print(ds)"
   ]
  },
  {
   "cell_type": "code",
   "execution_count": 38,
   "id": "008751a2-6a40-4834-8bec-0c1a1d0b06b9",
   "metadata": {},
   "outputs": [],
   "source": [
    "def generate(frequency, region, year):\n",
    "\n",
    "    collection_template = {\n",
    "        \"id\": f\"seaiceClimateDataRecordV4-{frequency}-{region}\",\n",
    "        \"stac_extensions\": [\n",
    "            \"https://stac-extensions.github.io/scientific/v1.0.0/schema.json\"\n",
    "        ],\n",
    "        \"description\": \"{{ collection.description }}\",\n",
    "        \"type\": \"Collection\",\n",
    "        \"title\": f\"NOAA/NSIDC passive microwave sea ice concentration climate data record {frequency.title()} {region}\",\n",
    "        \"license\": \"proprietary\",\n",
    "        \"keywords\": [\n",
    "            \"EARTH SCIENCE\",\n",
    "            \"CRYOSPHERE\",\n",
    "            \"SEA ICE\",\n",
    "            \"SEA ICE CONCENTRATION\",\n",
    "            \"Polar\",\n",
    "        ],\n",
    "        \"stac_version\": \"1.0.0\",\n",
    "        \"links\": [\n",
    "            {\n",
    "                \"rel\": \"license\",\n",
    "                \"title\": \"EOSDIS Data Use Policy\",\n",
    "                \"href\": \"https://science.nasa.gov/earth-science/earth-science-data/data-information-policy\",\n",
    "            },\n",
    "            {\"rel\": \"cite-as\", \"href\": CITATION},\n",
    "        ],\n",
    "        \"extent\": {\n",
    "            \"spatial\": {\"bbox\": [BBOX[region]]},\n",
    "            },\n",
    "        \"providers\": [\n",
    "            {\n",
    "                \"name\": \"NOAA at the National Snow and Ice Data Center\",\n",
    "                \"roles\": [\"licensor\", \"host\", \"processor\"],\n",
    "                \"url\": \"https://nsidc.org/data\",\n",
    "            },\n",
    "        ],\n",
    "        \"assets\": {\n",
    "            \"netcdf-https\": {\n",
    "                \"href\": f\"https://noaadata.apps.nsidc.org/NOAA/G02202_V4/{region}/{frequency}.nc\",\n",
    "                \"type\": \"application/x-hdf\",\n",
    "                \"roles\": [\"data\", \"netcdf4\", \"https\"]},\n",
    "               #  \"xarray:open_kwargs\": {\"consolidated\": True},\n",
    "        },\n",
    "        \"sci:doi\": CITATION_URLS,\n",
    "        \"sci:citation\": CITATION,\n",
    "    }\n",
    "\n",
    "    \n",
    "    if region == \"north\":\n",
    "        region_sn = \"nh\"\n",
    "    else:\n",
    "        region_sn = \"sh\"\n",
    "\n",
    "    if frequency == \"daily\":\n",
    "        # for doy in doys: \n",
    "        filepath_url = f\"https://noaadata.apps.nsidc.org/NOAA/G02202_V4/{region}/daily/{year}\" # /seaice_conc_daily_{region_sn}_{year}{doy}_n07_v04r00.nc\"\n",
    "        fs = fsspec.filesystem('https') #, host=host)\n",
    "        url = filepath_url\n",
    "        files = [f for f in fs.find(url) if f.endswith('.nc')]\n",
    "        with fs.open(files[0]) as f:\n",
    "            ds = xr.open_dataset(f)\n",
    "    elif frequency == \"monthly\":\n",
    "        # for month in months:\n",
    "        filepath_url = f\"https://noaadata.apps.nsidc.org/NOAA/G02202_V4/{region}/monthly\"\n",
    "        fs = fsspec.filesystem('https') #, host=host)\n",
    "        url = filepath_url\n",
    "        files = [f for f in fs.find(url) if f.endswith('.nc')]\n",
    "        \n",
    "        with fs.open(files[0]) as f:\n",
    "            ds = xr.open_dataset(f)\n",
    "            collection = xstac.xarray_to_stac(\n",
    "                ds,\n",
    "                collection_template,\n",
    "                temporal_dimension=\"time\", \n",
    "                x_dimension=\"x\",\n",
    "                y_dimension=\"y\"\n",
    "            )\n",
    "            collection.remove_links(pystac.RelType.SELF)\n",
    "            collection.remove_links(pystac.RelType.ROOT)\n",
    "            collection_result = collection.to_dict(include_self_link=False)\n",
    "    \n",
    "    item_template = {\n",
    "        \"id\": f\"cdr-{frequency}-{region}\",\n",
    "        \"type\": \"Feature\",\n",
    "        \"links\": [],\n",
    "        \"bbox\": BBOX[region],\n",
    "        \"geometry\": shapely.geometry.mapping(shapely.geometry.box(*BBOX[region])),\n",
    "        \"stac_version\": \"1.0.0\",\n",
    "        \"properties\": {\"start_datetime\": None, \"end_datetime\": None},\n",
    "        \"assets\": {\n",
    "            \"hdf-https\": {\n",
    "                \"href\": f\"https://noaadata.apps.nsidc.org/NOAA/G02202_V4/{region}/{frequency}.nc\",\n",
    "                \"type\": \"application/x-hdf\",\n",
    "                \"title\": f\"{frequency.title()} {region} CDR HTTPS NetCDF root\",\n",
    "                \"description\": f\"HTTPS URI of the {frequency} {region} Climate Data Record.\",  # noqa: E501\n",
    "                \"roles\": [\"data\", \"hdf\", \"https\"],\n",
    "                \"xarray:open_kwargs\": {\"consolidated\": True},\n",
    "            },\n",
    "        },\n",
    "    }\n",
    "    item = xstac.xarray_to_stac(\n",
    "        ds,\n",
    "        item_template,\n",
    "        # temporal_dimension=\"time\", \n",
    "        x_dimension=\"x\",\n",
    "        y_dimension=\"y\"\n",
    "    )\n",
    "    \n",
    "    item_result = item.to_dict(include_self_link=False)\n",
    "    return collection_result, item_result\n",
    "\n"
   ]
  },
  {
   "cell_type": "code",
   "execution_count": 39,
   "id": "c5510224-ec55-4f83-9f7d-7b97dac6dd8b",
   "metadata": {},
   "outputs": [],
   "source": [
    "def main(args=None):\n",
    "    args = parse_args(args)\n",
    "    region = args.region\n",
    "    frequency = args.frequency\n",
    "    year = args.year\n",
    "\n",
    "    if region == \"all\":\n",
    "        regions = list(REGIONS)\n",
    "    else: \n",
    "        regions = [region]\n",
    "\n",
    "    if frequency == \"all\":\n",
    "        frequencies = FREQUENCIES\n",
    "    else:\n",
    "        frequencies = [frequency]\n",
    "\n",
    "    for year in years:\n",
    "        for region in regions:\n",
    "            for frequency in frequencies:\n",
    "                collection, item = general(frequency, region)\n",
    "                outfile = Path(__file__).parent/f\"{frequency}{region}collection.json\"\n",
    "                outfile.parent.mkdir(exist_ok=True, parents=True)\n",
    "                with open(outfile, \"w\") as f:\n",
    "                    json.dump(collection, f, indent=2)\n",
    "                outfile = Path(__file__).parent / f\"{frequency}/{region}/{year}/item.json\"\n",
    "                with open(outfile, \"w\") as f:\n",
    "                    json.dump(item, f, indent=2)\n",
    "\n",
    "    if __name__ == \"__main__\":\n",
    "        sys.exit(main())\n",
    "\n",
    "\n",
    "\n"
   ]
  },
  {
   "cell_type": "code",
   "execution_count": 40,
   "id": "40a3a814-a139-47cd-9f38-e38d84f98e96",
   "metadata": {},
   "outputs": [
    {
     "name": "stdout",
     "output_type": "stream",
     "text": [
      "542\n",
      "https://noaadata.apps.nsidc.org/NOAA/G02202_V4/north/monthly/seaice_conc_monthly_nh_197811_n07_v04r00.nc\n",
      "<xarray.Dataset> Size: 3MB\n",
      "Dimensions:                                 (tdim: 1, y: 448, x: 304)\n",
      "Coordinates:\n",
      "    time                                    (tdim) datetime64[ns] 8B ...\n",
      "    xgrid                                   (x) float32 1kB ...\n",
      "    ygrid                                   (y) float32 2kB ...\n",
      "Dimensions without coordinates: tdim, y, x\n",
      "Data variables:\n",
      "    cdr_seaice_conc_monthly                 (tdim, y, x) float32 545kB ...\n",
      "    melt_onset_day_cdr_seaice_conc_monthly  (tdim, y, x) float32 545kB ...\n",
      "    nsidc_bt_seaice_conc_monthly            (tdim, y, x) float32 545kB ...\n",
      "    nsidc_nt_seaice_conc_monthly            (tdim, y, x) float32 545kB ...\n",
      "    projection                              |S1 1B ...\n",
      "    qa_of_cdr_seaice_conc_monthly           (tdim, y, x) float32 545kB ...\n",
      "    stdev_of_cdr_seaice_conc_monthly        (tdim, y, x) float32 545kB ...\n",
      "Attributes: (12/41)\n",
      "    Conventions:               CF-1.6, ACDD-1.3\n",
      "    title:                     NOAA/NSIDC Climate Data Record of Passive Micr...\n",
      "    program:                   NOAA Climate Data Record Program\n",
      "    cdr_variable:              cdr_seaice_conc_monthly\n",
      "    metadata_link:             https://nsidc.org/data/g02202/versions/4/\n",
      "    spatial_resolution:        25km\n",
      "    ...                        ...\n",
      "    sensor:                    SMMR > Scanning Multichannel Microwave Radiometer\n",
      "    date_created:              2021-06-22T15:55:02Z\n",
      "    time_coverage_start:       1978-12-01T00:00:00Z\n",
      "    time_coverage_end:         1978-12-31T23:59:59Z\n",
      "    references:                Comiso, J. C., and F. Nishio. 2008. Trends in ...\n",
      "    comment:                   The variable melt_onset_day_cdr_seaice_conc_mo...\n"
     ]
    }
   ],
   "source": [
    "fs = fsspec.filesystem('https') #, host=host)\n",
    "url = f\"https://noaadata.apps.nsidc.org/NOAA/G02202_V4/north/monthly\"\n",
    "files = [f for f in fs.find(url) if f.endswith('.nc')]\n",
    "print(len(files))\n",
    "print(files[0])\n",
    "with fs.open(files[1], ) as f:\n",
    "    ds = xr.open_dataset(f)\n",
    "    print(ds)"
   ]
  },
  {
   "cell_type": "code",
   "execution_count": 41,
   "id": "87540a1c-e238-4fda-9622-29e33ce1499b",
   "metadata": {},
   "outputs": [
    {
     "ename": "AttributeError",
     "evalue": "'set' object has no attribute 'decode'",
     "output_type": "error",
     "traceback": [
      "\u001b[0;31m---------------------------------------------------------------------------\u001b[0m",
      "\u001b[0;31mAttributeError\u001b[0m                            Traceback (most recent call last)",
      "Cell \u001b[0;32mIn[41], line 1\u001b[0m\n\u001b[0;32m----> 1\u001b[0m cr, ir \u001b[38;5;241m=\u001b[39m \u001b[43mgenerate\u001b[49m\u001b[43m(\u001b[49m\u001b[38;5;124;43m'\u001b[39;49m\u001b[38;5;124;43mmonthly\u001b[39;49m\u001b[38;5;124;43m'\u001b[39;49m\u001b[43m,\u001b[49m\u001b[43m \u001b[49m\u001b[38;5;124;43m'\u001b[39;49m\u001b[38;5;124;43mnorth\u001b[39;49m\u001b[38;5;124;43m'\u001b[39;49m\u001b[43m,\u001b[49m\u001b[43m \u001b[49m\u001b[38;5;124;43m'\u001b[39;49m\u001b[38;5;124;43m1999\u001b[39;49m\u001b[38;5;124;43m'\u001b[39;49m\u001b[43m)\u001b[49m\n",
      "Cell \u001b[0;32mIn[38], line 72\u001b[0m, in \u001b[0;36mgenerate\u001b[0;34m(frequency, region, year)\u001b[0m\n\u001b[1;32m     70\u001b[0m \u001b[38;5;28;01mwith\u001b[39;00m fs\u001b[38;5;241m.\u001b[39mopen(files[\u001b[38;5;241m0\u001b[39m]) \u001b[38;5;28;01mas\u001b[39;00m f:\n\u001b[1;32m     71\u001b[0m     ds \u001b[38;5;241m=\u001b[39m xr\u001b[38;5;241m.\u001b[39mopen_dataset(f)\n\u001b[0;32m---> 72\u001b[0m     collection \u001b[38;5;241m=\u001b[39m \u001b[43mxstac\u001b[49m\u001b[38;5;241;43m.\u001b[39;49m\u001b[43mxarray_to_stac\u001b[49m\u001b[43m(\u001b[49m\n\u001b[1;32m     73\u001b[0m \u001b[43m        \u001b[49m\u001b[43mds\u001b[49m\u001b[43m,\u001b[49m\n\u001b[1;32m     74\u001b[0m \u001b[43m        \u001b[49m\u001b[43mcollection_template\u001b[49m\u001b[43m,\u001b[49m\n\u001b[1;32m     75\u001b[0m \u001b[43m        \u001b[49m\u001b[43mtemporal_dimension\u001b[49m\u001b[38;5;241;43m=\u001b[39;49m\u001b[38;5;124;43m\"\u001b[39;49m\u001b[38;5;124;43mtime\u001b[39;49m\u001b[38;5;124;43m\"\u001b[39;49m\u001b[43m,\u001b[49m\u001b[43m \u001b[49m\n\u001b[1;32m     76\u001b[0m \u001b[43m        \u001b[49m\u001b[43mx_dimension\u001b[49m\u001b[38;5;241;43m=\u001b[39;49m\u001b[38;5;124;43m\"\u001b[39;49m\u001b[38;5;124;43mx\u001b[39;49m\u001b[38;5;124;43m\"\u001b[39;49m\u001b[43m,\u001b[49m\n\u001b[1;32m     77\u001b[0m \u001b[43m        \u001b[49m\u001b[43my_dimension\u001b[49m\u001b[38;5;241;43m=\u001b[39;49m\u001b[38;5;124;43m\"\u001b[39;49m\u001b[38;5;124;43my\u001b[39;49m\u001b[38;5;124;43m\"\u001b[39;49m\n\u001b[1;32m     78\u001b[0m \u001b[43m    \u001b[49m\u001b[43m)\u001b[49m\n\u001b[1;32m     79\u001b[0m     collection\u001b[38;5;241m.\u001b[39mremove_links(pystac\u001b[38;5;241m.\u001b[39mRelType\u001b[38;5;241m.\u001b[39mSELF)\n\u001b[1;32m     80\u001b[0m     collection\u001b[38;5;241m.\u001b[39mremove_links(pystac\u001b[38;5;241m.\u001b[39mRelType\u001b[38;5;241m.\u001b[39mROOT)\n",
      "File \u001b[0;32m~/mambaforge/envs/noaa-ai/lib/python3.11/site-packages/xstac/_xstac.py:401\u001b[0m, in \u001b[0;36mxarray_to_stac\u001b[0;34m(ds, template, temporal_dimension, temporal_extent, temporal_values, temporal_step, x_dimension, x_extent, x_values, x_step, y_dimension, y_extent, y_values, y_step, reference_system, vertical_dimension, vertical_extent, vertical_values, vertical_step, validate, kerchunk_indices, **additional_dimensions)\u001b[0m\n\u001b[1;32m    398\u001b[0m             dimension\u001b[38;5;241m.\u001b[39mreference_system \u001b[38;5;241m=\u001b[39m \u001b[38;5;28mint\u001b[39m(ref)\n\u001b[1;32m    400\u001b[0m \u001b[38;5;28;01mif\u001b[39;00m \u001b[38;5;28misinstance\u001b[39m(template, collections\u001b[38;5;241m.\u001b[39mabc\u001b[38;5;241m.\u001b[39mMapping):\n\u001b[0;32m--> 401\u001b[0m     template \u001b[38;5;241m=\u001b[39m \u001b[43mpystac\u001b[49m\u001b[38;5;241;43m.\u001b[39;49m\u001b[43mread_dict\u001b[49m\u001b[43m(\u001b[49m\u001b[43mtemplate\u001b[49m\u001b[43m)\u001b[49m\n\u001b[1;32m    403\u001b[0m is_item \u001b[38;5;241m=\u001b[39m \u001b[38;5;28misinstance\u001b[39m(template, pystac\u001b[38;5;241m.\u001b[39mItem)\n\u001b[1;32m    404\u001b[0m is_collection \u001b[38;5;241m=\u001b[39m \u001b[38;5;129;01mnot\u001b[39;00m is_item\n",
      "File \u001b[0;32m~/mambaforge/envs/noaa-ai/lib/python3.11/site-packages/pystac/__init__.py:236\u001b[0m, in \u001b[0;36mread_dict\u001b[0;34m(d, href, root, stac_io)\u001b[0m\n\u001b[1;32m    234\u001b[0m \u001b[38;5;28;01mif\u001b[39;00m stac_io \u001b[38;5;129;01mis\u001b[39;00m \u001b[38;5;28;01mNone\u001b[39;00m:\n\u001b[1;32m    235\u001b[0m     stac_io \u001b[38;5;241m=\u001b[39m StacIO\u001b[38;5;241m.\u001b[39mdefault()\n\u001b[0;32m--> 236\u001b[0m \u001b[38;5;28;01mreturn\u001b[39;00m \u001b[43mstac_io\u001b[49m\u001b[38;5;241;43m.\u001b[39;49m\u001b[43mstac_object_from_dict\u001b[49m\u001b[43m(\u001b[49m\u001b[43md\u001b[49m\u001b[43m,\u001b[49m\u001b[43m \u001b[49m\u001b[43mhref\u001b[49m\u001b[43m,\u001b[49m\u001b[43m \u001b[49m\u001b[43mroot\u001b[49m\u001b[43m)\u001b[49m\n",
      "File \u001b[0;32m~/mambaforge/envs/noaa-ai/lib/python3.11/site-packages/pystac/stac_io.py:177\u001b[0m, in \u001b[0;36mStacIO.stac_object_from_dict\u001b[0;34m(self, d, href, root, preserve_dict)\u001b[0m\n\u001b[1;32m    174\u001b[0m     \u001b[38;5;28;01mreturn\u001b[39;00m result\n\u001b[1;32m    176\u001b[0m \u001b[38;5;28;01mif\u001b[39;00m info\u001b[38;5;241m.\u001b[39mobject_type \u001b[38;5;241m==\u001b[39m pystac\u001b[38;5;241m.\u001b[39mSTACObjectType\u001b[38;5;241m.\u001b[39mCOLLECTION:\n\u001b[0;32m--> 177\u001b[0m     \u001b[38;5;28;01mreturn\u001b[39;00m \u001b[43mpystac\u001b[49m\u001b[38;5;241;43m.\u001b[39;49m\u001b[43mCollection\u001b[49m\u001b[38;5;241;43m.\u001b[39;49m\u001b[43mfrom_dict\u001b[49m\u001b[43m(\u001b[49m\n\u001b[1;32m    178\u001b[0m \u001b[43m        \u001b[49m\u001b[43md\u001b[49m\u001b[43m,\u001b[49m\u001b[43m \u001b[49m\u001b[43mhref\u001b[49m\u001b[38;5;241;43m=\u001b[39;49m\u001b[43mhref_str\u001b[49m\u001b[43m,\u001b[49m\u001b[43m \u001b[49m\u001b[43mroot\u001b[49m\u001b[38;5;241;43m=\u001b[39;49m\u001b[43mroot\u001b[49m\u001b[43m,\u001b[49m\u001b[43m \u001b[49m\u001b[43mmigrate\u001b[49m\u001b[38;5;241;43m=\u001b[39;49m\u001b[38;5;28;43;01mFalse\u001b[39;49;00m\u001b[43m,\u001b[49m\u001b[43m \u001b[49m\u001b[43mpreserve_dict\u001b[49m\u001b[38;5;241;43m=\u001b[39;49m\u001b[43mpreserve_dict\u001b[49m\n\u001b[1;32m    179\u001b[0m \u001b[43m    \u001b[49m\u001b[43m)\u001b[49m\n\u001b[1;32m    181\u001b[0m \u001b[38;5;28;01mif\u001b[39;00m info\u001b[38;5;241m.\u001b[39mobject_type \u001b[38;5;241m==\u001b[39m pystac\u001b[38;5;241m.\u001b[39mSTACObjectType\u001b[38;5;241m.\u001b[39mITEM:\n\u001b[1;32m    182\u001b[0m     \u001b[38;5;28;01mreturn\u001b[39;00m pystac\u001b[38;5;241m.\u001b[39mItem\u001b[38;5;241m.\u001b[39mfrom_dict(\n\u001b[1;32m    183\u001b[0m         d, href\u001b[38;5;241m=\u001b[39mhref_str, root\u001b[38;5;241m=\u001b[39mroot, migrate\u001b[38;5;241m=\u001b[39m\u001b[38;5;28;01mFalse\u001b[39;00m, preserve_dict\u001b[38;5;241m=\u001b[39mpreserve_dict\n\u001b[1;32m    184\u001b[0m     )\n",
      "File \u001b[0;32m~/mambaforge/envs/noaa-ai/lib/python3.11/site-packages/pystac/collection.py:646\u001b[0m, in \u001b[0;36mCollection.from_dict\u001b[0;34m(cls, d, href, root, migrate, preserve_dict)\u001b[0m\n\u001b[1;32m    643\u001b[0m \u001b[38;5;28;01mif\u001b[39;00m \u001b[38;5;129;01mnot\u001b[39;00m \u001b[38;5;28mcls\u001b[39m\u001b[38;5;241m.\u001b[39mmatches_object_type(d):\n\u001b[1;32m    644\u001b[0m     \u001b[38;5;28;01mraise\u001b[39;00m STACTypeError(d, \u001b[38;5;28mcls\u001b[39m)\n\u001b[0;32m--> 646\u001b[0m catalog_type \u001b[38;5;241m=\u001b[39m \u001b[43mCatalogType\u001b[49m\u001b[38;5;241;43m.\u001b[39;49m\u001b[43mdetermine_type\u001b[49m\u001b[43m(\u001b[49m\u001b[43md\u001b[49m\u001b[43m)\u001b[49m\n\u001b[1;32m    648\u001b[0m \u001b[38;5;28;01mif\u001b[39;00m preserve_dict:\n\u001b[1;32m    649\u001b[0m     d \u001b[38;5;241m=\u001b[39m deepcopy(d)\n",
      "File \u001b[0;32m~/mambaforge/envs/noaa-ai/lib/python3.11/site-packages/pystac/catalog.py:99\u001b[0m, in \u001b[0;36mCatalogType.determine_type\u001b[0;34m(cls, stac_json)\u001b[0m\n\u001b[1;32m     97\u001b[0m         self_link \u001b[38;5;241m=\u001b[39m link\n\u001b[1;32m     98\u001b[0m     \u001b[38;5;28;01melse\u001b[39;00m:\n\u001b[0;32m---> 99\u001b[0m         relative \u001b[38;5;241m|\u001b[39m\u001b[38;5;241m=\u001b[39m \u001b[38;5;129;01mnot\u001b[39;00m \u001b[43mis_absolute_href\u001b[49m\u001b[43m(\u001b[49m\u001b[43mlink\u001b[49m\u001b[43m[\u001b[49m\u001b[38;5;124;43m\"\u001b[39;49m\u001b[38;5;124;43mhref\u001b[39;49m\u001b[38;5;124;43m\"\u001b[39;49m\u001b[43m]\u001b[49m\u001b[43m)\u001b[49m\n\u001b[1;32m    101\u001b[0m \u001b[38;5;28;01mif\u001b[39;00m self_link:\n\u001b[1;32m    102\u001b[0m     \u001b[38;5;28;01mif\u001b[39;00m relative:\n",
      "File \u001b[0;32m~/mambaforge/envs/noaa-ai/lib/python3.11/site-packages/pystac/utils.py:366\u001b[0m, in \u001b[0;36mis_absolute_href\u001b[0;34m(href)\u001b[0m\n\u001b[1;32m    355\u001b[0m \u001b[38;5;28;01mdef\u001b[39;00m \u001b[38;5;21mis_absolute_href\u001b[39m(href: \u001b[38;5;28mstr\u001b[39m) \u001b[38;5;241m-\u001b[39m\u001b[38;5;241m>\u001b[39m \u001b[38;5;28mbool\u001b[39m:\n\u001b[1;32m    356\u001b[0m \u001b[38;5;250m    \u001b[39m\u001b[38;5;124;03m\"\"\"Determines if an HREF is absolute or not.\u001b[39;00m\n\u001b[1;32m    357\u001b[0m \n\u001b[1;32m    358\u001b[0m \u001b[38;5;124;03m    May be used on either local file paths or URLs.\u001b[39;00m\n\u001b[0;32m   (...)\u001b[0m\n\u001b[1;32m    364\u001b[0m \u001b[38;5;124;03m        bool: ``True`` if the given HREF is absolute, ``False`` if it is relative.\u001b[39;00m\n\u001b[1;32m    365\u001b[0m \u001b[38;5;124;03m    \"\"\"\u001b[39;00m\n\u001b[0;32m--> 366\u001b[0m     parsed \u001b[38;5;241m=\u001b[39m \u001b[43msafe_urlparse\u001b[49m\u001b[43m(\u001b[49m\u001b[43mhref\u001b[49m\u001b[43m)\u001b[49m\n\u001b[1;32m    367\u001b[0m     \u001b[38;5;28;01mreturn\u001b[39;00m parsed\u001b[38;5;241m.\u001b[39mscheme \u001b[38;5;241m!=\u001b[39m \u001b[38;5;124m\"\u001b[39m\u001b[38;5;124m\"\u001b[39m \u001b[38;5;129;01mor\u001b[39;00m os\u001b[38;5;241m.\u001b[39mpath\u001b[38;5;241m.\u001b[39misabs(parsed\u001b[38;5;241m.\u001b[39mpath)\n",
      "File \u001b[0;32m~/mambaforge/envs/noaa-ai/lib/python3.11/site-packages/pystac/utils.py:53\u001b[0m, in \u001b[0;36msafe_urlparse\u001b[0;34m(href)\u001b[0m\n\u001b[1;32m     39\u001b[0m \u001b[38;5;28;01mdef\u001b[39;00m \u001b[38;5;21msafe_urlparse\u001b[39m(href: \u001b[38;5;28mstr\u001b[39m) \u001b[38;5;241m-\u001b[39m\u001b[38;5;241m>\u001b[39m URLParseResult:\n\u001b[1;32m     40\u001b[0m \u001b[38;5;250m    \u001b[39m\u001b[38;5;124;03m\"\"\"Wrapper around :func:`urllib.parse.urlparse` that returns consistent results for\u001b[39;00m\n\u001b[1;32m     41\u001b[0m \u001b[38;5;124;03m    both Windows and UNIX file paths.\u001b[39;00m\n\u001b[1;32m     42\u001b[0m \n\u001b[0;32m   (...)\u001b[0m\n\u001b[1;32m     51\u001b[0m \u001b[38;5;124;03m        urllib.parse.ParseResult : The named tuple representing the parsed HREF.\u001b[39;00m\n\u001b[1;32m     52\u001b[0m \u001b[38;5;124;03m    \"\"\"\u001b[39;00m\n\u001b[0;32m---> 53\u001b[0m     parsed \u001b[38;5;241m=\u001b[39m \u001b[43murlparse\u001b[49m\u001b[43m(\u001b[49m\u001b[43mhref\u001b[49m\u001b[43m)\u001b[49m\n\u001b[1;32m     54\u001b[0m     \u001b[38;5;28;01mif\u001b[39;00m parsed\u001b[38;5;241m.\u001b[39mscheme \u001b[38;5;241m!=\u001b[39m \u001b[38;5;124m\"\u001b[39m\u001b[38;5;124m\"\u001b[39m \u001b[38;5;129;01mand\u001b[39;00m (\n\u001b[1;32m     55\u001b[0m         href\u001b[38;5;241m.\u001b[39mlower()\u001b[38;5;241m.\u001b[39mstartswith(\u001b[38;5;124mf\u001b[39m\u001b[38;5;124m\"\u001b[39m\u001b[38;5;132;01m{\u001b[39;00mparsed\u001b[38;5;241m.\u001b[39mscheme\u001b[38;5;132;01m}\u001b[39;00m\u001b[38;5;124m:\u001b[39m\u001b[38;5;130;01m\\\\\u001b[39;00m\u001b[38;5;124m\"\u001b[39m)\n\u001b[1;32m     56\u001b[0m         \u001b[38;5;129;01mor\u001b[39;00m (\n\u001b[0;32m   (...)\u001b[0m\n\u001b[1;32m     59\u001b[0m         )\n\u001b[1;32m     60\u001b[0m     ):\n\u001b[1;32m     61\u001b[0m         \u001b[38;5;28;01mreturn\u001b[39;00m URLParseResult(\n\u001b[1;32m     62\u001b[0m             scheme\u001b[38;5;241m=\u001b[39m\u001b[38;5;124m\"\u001b[39m\u001b[38;5;124m\"\u001b[39m,\n\u001b[1;32m     63\u001b[0m             netloc\u001b[38;5;241m=\u001b[39m\u001b[38;5;124m\"\u001b[39m\u001b[38;5;124m\"\u001b[39m,\n\u001b[0;32m   (...)\u001b[0m\n\u001b[1;32m     72\u001b[0m             fragment\u001b[38;5;241m=\u001b[39mparsed\u001b[38;5;241m.\u001b[39mfragment,\n\u001b[1;32m     73\u001b[0m         )\n",
      "File \u001b[0;32m~/mambaforge/envs/noaa-ai/lib/python3.11/urllib/parse.py:394\u001b[0m, in \u001b[0;36murlparse\u001b[0;34m(url, scheme, allow_fragments)\u001b[0m\n\u001b[1;32m    374\u001b[0m \u001b[38;5;28;01mdef\u001b[39;00m \u001b[38;5;21murlparse\u001b[39m(url, scheme\u001b[38;5;241m=\u001b[39m\u001b[38;5;124m'\u001b[39m\u001b[38;5;124m'\u001b[39m, allow_fragments\u001b[38;5;241m=\u001b[39m\u001b[38;5;28;01mTrue\u001b[39;00m):\n\u001b[1;32m    375\u001b[0m \u001b[38;5;250m    \u001b[39m\u001b[38;5;124;03m\"\"\"Parse a URL into 6 components:\u001b[39;00m\n\u001b[1;32m    376\u001b[0m \u001b[38;5;124;03m    <scheme>://<netloc>/<path>;<params>?<query>#<fragment>\u001b[39;00m\n\u001b[1;32m    377\u001b[0m \n\u001b[0;32m   (...)\u001b[0m\n\u001b[1;32m    392\u001b[0m \u001b[38;5;124;03m    Note that % escapes are not expanded.\u001b[39;00m\n\u001b[1;32m    393\u001b[0m \u001b[38;5;124;03m    \"\"\"\u001b[39;00m\n\u001b[0;32m--> 394\u001b[0m     url, scheme, _coerce_result \u001b[38;5;241m=\u001b[39m \u001b[43m_coerce_args\u001b[49m\u001b[43m(\u001b[49m\u001b[43murl\u001b[49m\u001b[43m,\u001b[49m\u001b[43m \u001b[49m\u001b[43mscheme\u001b[49m\u001b[43m)\u001b[49m\n\u001b[1;32m    395\u001b[0m     splitresult \u001b[38;5;241m=\u001b[39m urlsplit(url, scheme, allow_fragments)\n\u001b[1;32m    396\u001b[0m     scheme, netloc, url, query, fragment \u001b[38;5;241m=\u001b[39m splitresult\n",
      "File \u001b[0;32m~/mambaforge/envs/noaa-ai/lib/python3.11/urllib/parse.py:133\u001b[0m, in \u001b[0;36m_coerce_args\u001b[0;34m(*args)\u001b[0m\n\u001b[1;32m    131\u001b[0m \u001b[38;5;28;01mif\u001b[39;00m str_input:\n\u001b[1;32m    132\u001b[0m     \u001b[38;5;28;01mreturn\u001b[39;00m args \u001b[38;5;241m+\u001b[39m (_noop,)\n\u001b[0;32m--> 133\u001b[0m \u001b[38;5;28;01mreturn\u001b[39;00m \u001b[43m_decode_args\u001b[49m\u001b[43m(\u001b[49m\u001b[43margs\u001b[49m\u001b[43m)\u001b[49m \u001b[38;5;241m+\u001b[39m (_encode_result,)\n",
      "File \u001b[0;32m~/mambaforge/envs/noaa-ai/lib/python3.11/urllib/parse.py:117\u001b[0m, in \u001b[0;36m_decode_args\u001b[0;34m(args, encoding, errors)\u001b[0m\n\u001b[1;32m    115\u001b[0m \u001b[38;5;28;01mdef\u001b[39;00m \u001b[38;5;21m_decode_args\u001b[39m(args, encoding\u001b[38;5;241m=\u001b[39m_implicit_encoding,\n\u001b[1;32m    116\u001b[0m                        errors\u001b[38;5;241m=\u001b[39m_implicit_errors):\n\u001b[0;32m--> 117\u001b[0m     \u001b[38;5;28;01mreturn\u001b[39;00m \u001b[38;5;28;43mtuple\u001b[39;49m\u001b[43m(\u001b[49m\u001b[43mx\u001b[49m\u001b[38;5;241;43m.\u001b[39;49m\u001b[43mdecode\u001b[49m\u001b[43m(\u001b[49m\u001b[43mencoding\u001b[49m\u001b[43m,\u001b[49m\u001b[43m \u001b[49m\u001b[43merrors\u001b[49m\u001b[43m)\u001b[49m\u001b[43m \u001b[49m\u001b[38;5;28;43;01mif\u001b[39;49;00m\u001b[43m \u001b[49m\u001b[43mx\u001b[49m\u001b[43m \u001b[49m\u001b[38;5;28;43;01melse\u001b[39;49;00m\u001b[43m \u001b[49m\u001b[38;5;124;43m'\u001b[39;49m\u001b[38;5;124;43m'\u001b[39;49m\u001b[43m \u001b[49m\u001b[38;5;28;43;01mfor\u001b[39;49;00m\u001b[43m \u001b[49m\u001b[43mx\u001b[49m\u001b[43m \u001b[49m\u001b[38;5;129;43;01min\u001b[39;49;00m\u001b[43m \u001b[49m\u001b[43margs\u001b[49m\u001b[43m)\u001b[49m\n",
      "File \u001b[0;32m~/mambaforge/envs/noaa-ai/lib/python3.11/urllib/parse.py:117\u001b[0m, in \u001b[0;36m<genexpr>\u001b[0;34m(.0)\u001b[0m\n\u001b[1;32m    115\u001b[0m \u001b[38;5;28;01mdef\u001b[39;00m \u001b[38;5;21m_decode_args\u001b[39m(args, encoding\u001b[38;5;241m=\u001b[39m_implicit_encoding,\n\u001b[1;32m    116\u001b[0m                        errors\u001b[38;5;241m=\u001b[39m_implicit_errors):\n\u001b[0;32m--> 117\u001b[0m     \u001b[38;5;28;01mreturn\u001b[39;00m \u001b[38;5;28mtuple\u001b[39m(\u001b[43mx\u001b[49m\u001b[38;5;241;43m.\u001b[39;49m\u001b[43mdecode\u001b[49m(encoding, errors) \u001b[38;5;28;01mif\u001b[39;00m x \u001b[38;5;28;01melse\u001b[39;00m \u001b[38;5;124m'\u001b[39m\u001b[38;5;124m'\u001b[39m \u001b[38;5;28;01mfor\u001b[39;00m x \u001b[38;5;129;01min\u001b[39;00m args)\n",
      "\u001b[0;31mAttributeError\u001b[0m: 'set' object has no attribute 'decode'"
     ]
    }
   ],
   "source": [
    "cr, ir = generate('monthly', 'north', '1999')"
   ]
  },
  {
   "cell_type": "code",
   "execution_count": null,
   "id": "e1f37461-b044-49ad-b78a-912ed5240f96",
   "metadata": {},
   "outputs": [],
   "source": []
  }
 ],
 "metadata": {
  "kernelspec": {
   "display_name": "Python 3 (ipykernel)",
   "language": "python",
   "name": "python3"
  },
  "language_info": {
   "codemirror_mode": {
    "name": "ipython",
    "version": 3
   },
   "file_extension": ".py",
   "mimetype": "text/x-python",
   "name": "python",
   "nbconvert_exporter": "python",
   "pygments_lexer": "ipython3",
   "version": "3.11.9"
  }
 },
 "nbformat": 4,
 "nbformat_minor": 5
}
