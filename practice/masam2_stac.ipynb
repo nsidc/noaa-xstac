{
 "cells": [
  {
   "cell_type": "code",
   "execution_count": 2,
   "id": "fedc9c0f-8090-49f3-b89b-97561e0d7709",
   "metadata": {},
   "outputs": [],
   "source": [
    "import os\n",
    "import json\n",
    "import rasterio\n",
    "import urllib.request\n",
    "import pystac\n",
    "\n",
    "from datetime import datetime, timezone\n",
    "from shapely.geometry import Polygon, mapping\n",
    "from tempfile import TemporaryDirectory"
   ]
  },
  {
   "cell_type": "code",
   "execution_count": 3,
   "id": "1d4a5549-b91d-43e1-9f60-9d994fea3627",
   "metadata": {},
   "outputs": [],
   "source": [
    "tmp_dir = TemporaryDirectory()\n",
    "img_path = os.path.join(tmp_dir.name, 'masam2_minconc40_source_20140127_v2.png')"
   ]
  },
  {
   "cell_type": "code",
   "execution_count": 4,
   "id": "a3de6962-c954-4d2a-9947-b46ba6f2dda9",
   "metadata": {},
   "outputs": [
    {
     "data": {
      "text/plain": [
       "('/var/folders/dk/dk0501kx2wn6g0b3cjgyhmk80000gp/T/tmpa7aqi60w/masam2_minconc40_source_20140127_v2.png',\n",
       " <http.client.HTTPMessage at 0x10f605690>)"
      ]
     },
     "execution_count": 4,
     "metadata": {},
     "output_type": "execute_result"
    }
   ],
   "source": [
    "url = ('https://noaadata.apps.nsidc.org/'\n",
    "       'NOAA/G10005_V2/BrowseSource/2014/'\n",
    "       'masam2_minconc40_source_20140127_v2.png')\n",
    "urllib.request.urlretrieve(url, img_path)"
   ]
  },
  {
   "cell_type": "code",
   "execution_count": 5,
   "id": "b60b6ed2-954b-4cf8-a436-13fbde45862b",
   "metadata": {},
   "outputs": [],
   "source": [
    "catalog = pystac.Catalog(id='practice-catalog', description='This catalog is a basic demonstration catalog utilizing an from Maisie.')"
   ]
  },
  {
   "cell_type": "code",
   "execution_count": 6,
   "id": "20c02afa-58ff-4402-8f79-28d5e1f1e50c",
   "metadata": {},
   "outputs": [
    {
     "name": "stdout",
     "output_type": "stream",
     "text": [
      "[]\n",
      "[]\n"
     ]
    }
   ],
   "source": [
    "print(list(catalog.get_children()))\n",
    "print(list(catalog.get_items()))"
   ]
  },
  {
   "cell_type": "code",
   "execution_count": 7,
   "id": "7aacf471-ecbc-4ddc-8af8-b7e9362d5cc5",
   "metadata": {},
   "outputs": [
    {
     "name": "stdout",
     "output_type": "stream",
     "text": [
      "{\n",
      "    \"type\": \"Catalog\",\n",
      "    \"id\": \"practice-catalog\",\n",
      "    \"stac_version\": \"1.0.0\",\n",
      "    \"description\": \"This catalog is a basic demonstration catalog utilizing an from Maisie.\",\n",
      "    \"links\": []\n",
      "}\n"
     ]
    }
   ],
   "source": [
    "print(json.dumps(catalog.to_dict(), indent=4))"
   ]
  },
  {
   "cell_type": "code",
   "execution_count": 8,
   "id": "3dec1f0a-8d86-4916-9d1a-dc3834f6f4a8",
   "metadata": {},
   "outputs": [],
   "source": [
    "def get_bbox_and_footprint(raster):\n",
    "    with rasterio.open(raster) as r:\n",
    "        bounds = r.bounds\n",
    "        bbox = [bounds.left, bounds.bottom, bounds.right, bounds.top]\n",
    "        footprint = Polygon([\n",
    "            [bounds.left, bounds.bottom],\n",
    "            [bounds.left, bounds.top],\n",
    "            [bounds.right, bounds.top],\n",
    "            [bounds.right, bounds.bottom]\n",
    "        ])\n",
    "        \n",
    "        return (bbox, mapping(footprint))"
   ]
  },
  {
   "cell_type": "code",
   "execution_count": 9,
   "id": "fb355bd5-cad6-4410-9970-123416d2934a",
   "metadata": {},
   "outputs": [
    {
     "name": "stdout",
     "output_type": "stream",
     "text": [
      "bbox:  [0.0, 2550.0, 2100.0, 0.0] \n",
      "\n",
      "footprint:  {'type': 'Polygon', 'coordinates': (((0.0, 2550.0), (0.0, 0.0), (2100.0, 0.0), (2100.0, 2550.0), (0.0, 2550.0)),)}\n"
     ]
    },
    {
     "name": "stderr",
     "output_type": "stream",
     "text": [
      "/Users/roma8902/mambaforge/envs/noaa-ai/lib/python3.11/site-packages/rasterio/__init__.py:304: NotGeoreferencedWarning: Dataset has no geotransform, gcps, or rpcs. The identity matrix will be returned.\n",
      "  dataset = DatasetReader(path, driver=driver, sharing=sharing, **kwargs)\n"
     ]
    }
   ],
   "source": [
    "# Run the function and print out the results\n",
    "bbox, footprint = get_bbox_and_footprint(img_path)\n",
    "print(\"bbox: \", bbox, \"\\n\")\n",
    "print(\"footprint: \", footprint)"
   ]
  },
  {
   "cell_type": "code",
   "execution_count": 10,
   "id": "7423a9c7-6af1-4acf-9043-54af5ced657d",
   "metadata": {},
   "outputs": [],
   "source": [
    "datetime_utc = datetime.now(tz=timezone.utc)"
   ]
  },
  {
   "cell_type": "code",
   "execution_count": 11,
   "id": "53b2995c-7b9e-43e5-9adf-b097cb5ee4c6",
   "metadata": {},
   "outputs": [],
   "source": [
    "# populate pystac item\n",
    "item = pystac.Item(id='local-image',\n",
    "                 geometry=footprint,\n",
    "                 bbox=bbox,\n",
    "                 datetime=datetime_utc,\n",
    "                 properties={})"
   ]
  },
  {
   "cell_type": "code",
   "execution_count": 12,
   "id": "5cf0668a-a3ce-4ebb-9653-d324027adf2b",
   "metadata": {},
   "outputs": [
    {
     "name": "stdout",
     "output_type": "stream",
     "text": [
      "True\n"
     ]
    }
   ],
   "source": [
    "print(item.get_parent() is None)"
   ]
  },
  {
   "cell_type": "code",
   "execution_count": 13,
   "id": "7d6affbc-d56f-4b0e-b3b5-84e091db79cb",
   "metadata": {},
   "outputs": [
    {
     "data": {
      "text/html": [
       "\n",
       "\n",
       "<style>\n",
       ".pystac-summary {\n",
       "    cursor: pointer;\n",
       "    display: list-item;\n",
       "    list-style: revert;\n",
       "    margin-bottom: 0 !important;\n",
       "\n",
       "    .pystac-l {\n",
       "        padding-left: 0.5em;\n",
       "        color: rgb(64, 128, 128);\n",
       "        font-style: italic;\n",
       "    }\n",
       "}\n",
       ".pystac-row {\n",
       "    overflow-wrap: break-word;\n",
       "    padding-left: .825em;\n",
       "\n",
       "    .pystac-k {\n",
       "        display: inline-block;\n",
       "        margin: 0px 0.5em 0px 0px;\n",
       "    }\n",
       "    .pystac-v {\n",
       "        color: rgb(186, 33, 33);\n",
       "    }\n",
       "}\n",
       ".pystac-k {\n",
       "    color: rgb(0, 128, 0);\n",
       "    font-weight: 700;\n",
       "}\n",
       "</style>\n",
       "<div class=\"jp-RenderedJSON jp-mod-trusted jp-OutputArea-output\">\n",
       "    <div class=\"container\" style=\"line-height: normal;\">\n",
       "        <ul style=\"padding: 0px; margin: 0px; list-style: none; display: block;\">\n",
       "            \n",
       "                \n",
       "                    \n",
       "        <li class=\"pystac-row\">\n",
       "            <span class=\"pystac-k\">rel</span>\n",
       "            <span class=\"pystac-v\">\"item\"</span>\n",
       "        </li>\n",
       "    \n",
       "                \n",
       "            \n",
       "                \n",
       "                    \n",
       "        <li class=\"pystac-row\">\n",
       "            <span class=\"pystac-k\">href</span>\n",
       "            <span class=\"pystac-v\">None</span>\n",
       "        </li>\n",
       "    \n",
       "                \n",
       "            \n",
       "                \n",
       "                    \n",
       "        <li class=\"pystac-row\">\n",
       "            <span class=\"pystac-k\">type</span>\n",
       "            <span class=\"pystac-v\">\"application/json\"</span>\n",
       "        </li>\n",
       "    \n",
       "                \n",
       "            \n",
       "        </ul>\n",
       "    </div>\n",
       "</div>"
      ],
      "text/plain": [
       "<Link rel=item target=<Item id=local-image>>"
      ]
     },
     "execution_count": 13,
     "metadata": {},
     "output_type": "execute_result"
    }
   ],
   "source": [
    "catalog.add_item(item)"
   ]
  },
  {
   "cell_type": "code",
   "execution_count": 14,
   "id": "df871573-793e-4551-9221-04b301069538",
   "metadata": {},
   "outputs": [
    {
     "data": {
      "text/html": [
       "\n",
       "\n",
       "<style>\n",
       ".pystac-summary {\n",
       "    cursor: pointer;\n",
       "    display: list-item;\n",
       "    list-style: revert;\n",
       "    margin-bottom: 0 !important;\n",
       "\n",
       "    .pystac-l {\n",
       "        padding-left: 0.5em;\n",
       "        color: rgb(64, 128, 128);\n",
       "        font-style: italic;\n",
       "    }\n",
       "}\n",
       ".pystac-row {\n",
       "    overflow-wrap: break-word;\n",
       "    padding-left: .825em;\n",
       "\n",
       "    .pystac-k {\n",
       "        display: inline-block;\n",
       "        margin: 0px 0.5em 0px 0px;\n",
       "    }\n",
       "    .pystac-v {\n",
       "        color: rgb(186, 33, 33);\n",
       "    }\n",
       "}\n",
       ".pystac-k {\n",
       "    color: rgb(0, 128, 0);\n",
       "    font-weight: 700;\n",
       "}\n",
       "</style>\n",
       "<div class=\"jp-RenderedJSON jp-mod-trusted jp-OutputArea-output\">\n",
       "    <div class=\"container\" style=\"line-height: normal;\">\n",
       "        <ul style=\"padding: 0px; margin: 0px; list-style: none; display: block;\">\n",
       "            \n",
       "                \n",
       "                    \n",
       "        <li class=\"pystac-row\">\n",
       "            <span class=\"pystac-k\">type</span>\n",
       "            <span class=\"pystac-v\">\"Catalog\"</span>\n",
       "        </li>\n",
       "    \n",
       "                \n",
       "            \n",
       "                \n",
       "                    \n",
       "        <li class=\"pystac-row\">\n",
       "            <span class=\"pystac-k\">id</span>\n",
       "            <span class=\"pystac-v\">\"practice-catalog\"</span>\n",
       "        </li>\n",
       "    \n",
       "                \n",
       "            \n",
       "                \n",
       "                    \n",
       "        <li class=\"pystac-row\">\n",
       "            <span class=\"pystac-k\">stac_version</span>\n",
       "            <span class=\"pystac-v\">\"1.0.0\"</span>\n",
       "        </li>\n",
       "    \n",
       "                \n",
       "            \n",
       "                \n",
       "                    \n",
       "        <li class=\"pystac-row\">\n",
       "            <span class=\"pystac-k\">description</span>\n",
       "            <span class=\"pystac-v\">\"This catalog is a basic demonstration catalog utilizing an from Maisie.\"</span>\n",
       "        </li>\n",
       "    \n",
       "                \n",
       "            \n",
       "                \n",
       "                    <li><details>\n",
       "        <summary class=\"pystac-summary\"><span class=\"pystac-k\">links</span><span class=\"pystac-l\">[] 1 items</span></summary>\n",
       "        \n",
       "            <ul style=\"margin: 0px; padding: 0px 0px 0px 1.75em; list-style: none; display: block;\">\n",
       "        \n",
       "            \n",
       "                \n",
       "        <li><details>\n",
       "            <summary class=\"pystac-summary\"><span class=\"pystac-k\">0</span></summary>\n",
       "            <ul style=\"margin: 0px; padding: 0px 0px 0px 1.75em; list-style: none; display: block;\">\n",
       "        \n",
       "            \n",
       "                \n",
       "        <li class=\"pystac-row\">\n",
       "            <span class=\"pystac-k\">rel</span>\n",
       "            <span class=\"pystac-v\">\"item\"</span>\n",
       "        </li>\n",
       "    \n",
       "            \n",
       "        \n",
       "            \n",
       "                \n",
       "        <li class=\"pystac-row\">\n",
       "            <span class=\"pystac-k\">href</span>\n",
       "            <span class=\"pystac-v\">None</span>\n",
       "        </li>\n",
       "    \n",
       "            \n",
       "        \n",
       "            \n",
       "                \n",
       "        <li class=\"pystac-row\">\n",
       "            <span class=\"pystac-k\">type</span>\n",
       "            <span class=\"pystac-v\">\"application/json\"</span>\n",
       "        </li>\n",
       "    \n",
       "            \n",
       "        \n",
       "    </ul>\n",
       "        </details></li>\n",
       "    \n",
       "            \n",
       "        \n",
       "    </ul>\n",
       "        \n",
       "    </details></li>\n",
       "                \n",
       "            \n",
       "        </ul>\n",
       "    </div>\n",
       "</div>"
      ],
      "text/plain": [
       "<Catalog id=practice-catalog>"
      ]
     },
     "execution_count": 14,
     "metadata": {},
     "output_type": "execute_result"
    }
   ],
   "source": [
    "item.get_parent()"
   ]
  },
  {
   "cell_type": "code",
   "execution_count": 15,
   "id": "5cf1076c-ae30-4eb1-b0d8-dff8e6afe3a1",
   "metadata": {},
   "outputs": [
    {
     "name": "stdout",
     "output_type": "stream",
     "text": [
      "* <Catalog id=practice-catalog>\n",
      "  * <Item id=local-image>\n"
     ]
    }
   ],
   "source": [
    "catalog.describe()"
   ]
  },
  {
   "cell_type": "code",
   "execution_count": 16,
   "id": "ee82d1b6-e909-49e6-94f2-1b562d19a2c5",
   "metadata": {},
   "outputs": [],
   "source": [
    "# Add Asset and all its information to Item \n",
    "item.add_asset(\n",
    "    key='image',\n",
    "    asset=pystac.Asset(\n",
    "        href=img_path,\n",
    "        media_type=pystac.MediaType.PNG\n",
    "    )\n",
    ")"
   ]
  },
  {
   "cell_type": "code",
   "execution_count": 17,
   "id": "8c0de666-fddd-4fe2-bef7-8d7759526b3f",
   "metadata": {},
   "outputs": [
    {
     "name": "stdout",
     "output_type": "stream",
     "text": [
      "{\n",
      "    \"type\": \"Feature\",\n",
      "    \"stac_version\": \"1.0.0\",\n",
      "    \"id\": \"local-image\",\n",
      "    \"properties\": {\n",
      "        \"datetime\": \"2024-04-22T15:34:48.801937Z\"\n",
      "    },\n",
      "    \"geometry\": {\n",
      "        \"type\": \"Polygon\",\n",
      "        \"coordinates\": [\n",
      "            [\n",
      "                [\n",
      "                    0.0,\n",
      "                    2550.0\n",
      "                ],\n",
      "                [\n",
      "                    0.0,\n",
      "                    0.0\n",
      "                ],\n",
      "                [\n",
      "                    2100.0,\n",
      "                    0.0\n",
      "                ],\n",
      "                [\n",
      "                    2100.0,\n",
      "                    2550.0\n",
      "                ],\n",
      "                [\n",
      "                    0.0,\n",
      "                    2550.0\n",
      "                ]\n",
      "            ]\n",
      "        ]\n",
      "    },\n",
      "    \"links\": [\n",
      "        {\n",
      "            \"rel\": \"root\",\n",
      "            \"href\": null,\n",
      "            \"type\": \"application/json\"\n",
      "        },\n",
      "        {\n",
      "            \"rel\": \"parent\",\n",
      "            \"href\": null,\n",
      "            \"type\": \"application/json\"\n",
      "        }\n",
      "    ],\n",
      "    \"assets\": {\n",
      "        \"image\": {\n",
      "            \"href\": \"/var/folders/dk/dk0501kx2wn6g0b3cjgyhmk80000gp/T/tmpa7aqi60w/masam2_minconc40_source_20140127_v2.png\",\n",
      "            \"type\": \"image/png\"\n",
      "        }\n",
      "    },\n",
      "    \"bbox\": [\n",
      "        0.0,\n",
      "        2550.0,\n",
      "        2100.0,\n",
      "        0.0\n",
      "    ],\n",
      "    \"stac_extensions\": []\n",
      "}\n"
     ]
    }
   ],
   "source": [
    "print(json.dumps(item.to_dict(), indent=4))"
   ]
  },
  {
   "cell_type": "code",
   "execution_count": 18,
   "id": "7e615ccc-d4ce-4c04-95e0-a70f1022b3a3",
   "metadata": {},
   "outputs": [
    {
     "name": "stdout",
     "output_type": "stream",
     "text": [
      "True\n",
      "True\n"
     ]
    }
   ],
   "source": [
    "print(catalog.get_self_href() is None)\n",
    "print(item.get_self_href() is None)"
   ]
  },
  {
   "cell_type": "code",
   "execution_count": 19,
   "id": "0ab5df65-3a30-4afa-84c0-41c7ff91c2b6",
   "metadata": {},
   "outputs": [],
   "source": [
    "catalog.normalize_hrefs(os.path.join(tmp_dir.name, \"stac\"))"
   ]
  },
  {
   "cell_type": "code",
   "execution_count": 20,
   "id": "eee8491f-2dae-466d-ac22-e932f3088d2f",
   "metadata": {},
   "outputs": [
    {
     "name": "stdout",
     "output_type": "stream",
     "text": [
      "Catalog HREF:  /var/folders/dk/dk0501kx2wn6g0b3cjgyhmk80000gp/T/tmpa7aqi60w/stac/catalog.json\n",
      "Item HREF:  /var/folders/dk/dk0501kx2wn6g0b3cjgyhmk80000gp/T/tmpa7aqi60w/stac/local-image/local-image.json\n"
     ]
    }
   ],
   "source": [
    "print(\"Catalog HREF: \", catalog.get_self_href())\n",
    "print(\"Item HREF: \", item.get_self_href())"
   ]
  },
  {
   "cell_type": "code",
   "execution_count": 21,
   "id": "d3dd5750-0024-4808-9b46-84e6ba37d269",
   "metadata": {},
   "outputs": [],
   "source": [
    "catalog.save(catalog_type=pystac.CatalogType.SELF_CONTAINED)"
   ]
  },
  {
   "cell_type": "code",
   "execution_count": 22,
   "id": "b9f618d6-dc8c-42dc-8cb5-2a944df776cb",
   "metadata": {},
   "outputs": [
    {
     "name": "stdout",
     "output_type": "stream",
     "text": [
      "/var/folders/dk/dk0501kx2wn6g0b3cjgyhmk80000gp/T/tmpa7aqi60w/stac/catalog.json\n",
      "\n",
      "/var/folders/dk/dk0501kx2wn6g0b3cjgyhmk80000gp/T/tmpa7aqi60w/stac/local-image:\n",
      "local-image.json\n"
     ]
    }
   ],
   "source": [
    "!ls {tmp_dir.name}/stac/*"
   ]
  },
  {
   "cell_type": "code",
   "execution_count": 23,
   "id": "2b5b683b-fedf-4ed8-903c-262eb549110b",
   "metadata": {},
   "outputs": [
    {
     "name": "stdout",
     "output_type": "stream",
     "text": [
      "{\n",
      "  \"type\": \"Catalog\",\n",
      "  \"id\": \"practice-catalog\",\n",
      "  \"stac_version\": \"1.0.0\",\n",
      "  \"description\": \"This catalog is a basic demonstration catalog utilizing an from Maisie.\",\n",
      "  \"links\": [\n",
      "    {\n",
      "      \"rel\": \"root\",\n",
      "      \"href\": \"./catalog.json\",\n",
      "      \"type\": \"application/json\"\n",
      "    },\n",
      "    {\n",
      "      \"rel\": \"item\",\n",
      "      \"href\": \"./local-image/local-image.json\",\n",
      "      \"type\": \"application/json\"\n",
      "    }\n",
      "  ]\n",
      "}\n"
     ]
    }
   ],
   "source": [
    "with open(catalog.self_href) as f:\n",
    "    print(f.read())"
   ]
  },
  {
   "cell_type": "code",
   "execution_count": 24,
   "id": "89d36ae2-379f-4e80-8254-783178a8dade",
   "metadata": {},
   "outputs": [
    {
     "name": "stdout",
     "output_type": "stream",
     "text": [
      "{\n",
      "  \"type\": \"Feature\",\n",
      "  \"stac_version\": \"1.0.0\",\n",
      "  \"id\": \"local-image\",\n",
      "  \"properties\": {\n",
      "    \"datetime\": \"2024-04-22T15:34:48.801937Z\"\n",
      "  },\n",
      "  \"geometry\": {\n",
      "    \"type\": \"Polygon\",\n",
      "    \"coordinates\": [\n",
      "      [\n",
      "        [\n",
      "          0.0,\n",
      "          2550.0\n",
      "        ],\n",
      "        [\n",
      "          0.0,\n",
      "          0.0\n",
      "        ],\n",
      "        [\n",
      "          2100.0,\n",
      "          0.0\n",
      "        ],\n",
      "        [\n",
      "          2100.0,\n",
      "          2550.0\n",
      "        ],\n",
      "        [\n",
      "          0.0,\n",
      "          2550.0\n",
      "        ]\n",
      "      ]\n",
      "    ]\n",
      "  },\n",
      "  \"links\": [\n",
      "    {\n",
      "      \"rel\": \"root\",\n",
      "      \"href\": \"../catalog.json\",\n",
      "      \"type\": \"application/json\"\n",
      "    },\n",
      "    {\n",
      "      \"rel\": \"parent\",\n",
      "      \"href\": \"../catalog.json\",\n",
      "      \"type\": \"application/json\"\n",
      "    }\n",
      "  ],\n",
      "  \"assets\": {\n",
      "    \"image\": {\n",
      "      \"href\": \"/var/folders/dk/dk0501kx2wn6g0b3cjgyhmk80000gp/T/tmpa7aqi60w/masam2_minconc40_source_20140127_v2.png\",\n",
      "      \"type\": \"image/png\"\n",
      "    }\n",
      "  },\n",
      "  \"bbox\": [\n",
      "    0.0,\n",
      "    2550.0,\n",
      "    2100.0,\n",
      "    0.0\n",
      "  ],\n",
      "  \"stac_extensions\": []\n",
      "}\n"
     ]
    }
   ],
   "source": [
    "with open(item.self_href) as f:\n",
    "    print(f.read())"
   ]
  },
  {
   "cell_type": "code",
   "execution_count": 25,
   "id": "1cf8840e-e1ae-48af-a142-6d70c31c9f27",
   "metadata": {},
   "outputs": [],
   "source": [
    "catalog.save(catalog_type=pystac.CatalogType.ABSOLUTE_PUBLISHED)\n"
   ]
  },
  {
   "cell_type": "code",
   "execution_count": 26,
   "id": "a8ccbe73-e6ab-461c-bebc-4161d920fe68",
   "metadata": {},
   "outputs": [
    {
     "name": "stdout",
     "output_type": "stream",
     "text": [
      "{\n",
      "  \"type\": \"Feature\",\n",
      "  \"stac_version\": \"1.0.0\",\n",
      "  \"id\": \"local-image\",\n",
      "  \"properties\": {\n",
      "    \"datetime\": \"2024-04-22T15:34:48.801937Z\"\n",
      "  },\n",
      "  \"geometry\": {\n",
      "    \"type\": \"Polygon\",\n",
      "    \"coordinates\": [\n",
      "      [\n",
      "        [\n",
      "          0.0,\n",
      "          2550.0\n",
      "        ],\n",
      "        [\n",
      "          0.0,\n",
      "          0.0\n",
      "        ],\n",
      "        [\n",
      "          2100.0,\n",
      "          0.0\n",
      "        ],\n",
      "        [\n",
      "          2100.0,\n",
      "          2550.0\n",
      "        ],\n",
      "        [\n",
      "          0.0,\n",
      "          2550.0\n",
      "        ]\n",
      "      ]\n",
      "    ]\n",
      "  },\n",
      "  \"links\": [\n",
      "    {\n",
      "      \"rel\": \"root\",\n",
      "      \"href\": \"/var/folders/dk/dk0501kx2wn6g0b3cjgyhmk80000gp/T/tmpa7aqi60w/stac/catalog.json\",\n",
      "      \"type\": \"application/json\"\n",
      "    },\n",
      "    {\n",
      "      \"rel\": \"parent\",\n",
      "      \"href\": \"/var/folders/dk/dk0501kx2wn6g0b3cjgyhmk80000gp/T/tmpa7aqi60w/stac/catalog.json\",\n",
      "      \"type\": \"application/json\"\n",
      "    },\n",
      "    {\n",
      "      \"rel\": \"self\",\n",
      "      \"href\": \"/var/folders/dk/dk0501kx2wn6g0b3cjgyhmk80000gp/T/tmpa7aqi60w/stac/local-image/local-image.json\",\n",
      "      \"type\": \"application/json\"\n",
      "    }\n",
      "  ],\n",
      "  \"assets\": {\n",
      "    \"image\": {\n",
      "      \"href\": \"/var/folders/dk/dk0501kx2wn6g0b3cjgyhmk80000gp/T/tmpa7aqi60w/masam2_minconc40_source_20140127_v2.png\",\n",
      "      \"type\": \"image/png\"\n",
      "    }\n",
      "  },\n",
      "  \"bbox\": [\n",
      "    0.0,\n",
      "    2550.0,\n",
      "    2100.0,\n",
      "    0.0\n",
      "  ],\n",
      "  \"stac_extensions\": []\n",
      "}\n"
     ]
    }
   ],
   "source": [
    "with open(item.get_self_href()) as f:\n",
    "    print(f.read())"
   ]
  },
  {
   "cell_type": "code",
   "execution_count": 27,
   "id": "8f9a9c3c-ca9f-4b90-8b5c-5ce6c6b7221a",
   "metadata": {},
   "outputs": [],
   "source": [
    "catalog.make_all_asset_hrefs_relative()\n",
    "catalog.save(catalog_type=pystac.CatalogType.SELF_CONTAINED)"
   ]
  },
  {
   "cell_type": "code",
   "execution_count": 28,
   "id": "92104bd4-03b2-4f8f-8bc4-3fb92f10ee19",
   "metadata": {},
   "outputs": [
    {
     "name": "stdout",
     "output_type": "stream",
     "text": [
      "{\n",
      "  \"type\": \"Feature\",\n",
      "  \"stac_version\": \"1.0.0\",\n",
      "  \"id\": \"local-image\",\n",
      "  \"properties\": {\n",
      "    \"datetime\": \"2024-04-22T15:34:48.801937Z\"\n",
      "  },\n",
      "  \"geometry\": {\n",
      "    \"type\": \"Polygon\",\n",
      "    \"coordinates\": [\n",
      "      [\n",
      "        [\n",
      "          0.0,\n",
      "          2550.0\n",
      "        ],\n",
      "        [\n",
      "          0.0,\n",
      "          0.0\n",
      "        ],\n",
      "        [\n",
      "          2100.0,\n",
      "          0.0\n",
      "        ],\n",
      "        [\n",
      "          2100.0,\n",
      "          2550.0\n",
      "        ],\n",
      "        [\n",
      "          0.0,\n",
      "          2550.0\n",
      "        ]\n",
      "      ]\n",
      "    ]\n",
      "  },\n",
      "  \"links\": [\n",
      "    {\n",
      "      \"rel\": \"root\",\n",
      "      \"href\": \"../catalog.json\",\n",
      "      \"type\": \"application/json\"\n",
      "    },\n",
      "    {\n",
      "      \"rel\": \"parent\",\n",
      "      \"href\": \"../catalog.json\",\n",
      "      \"type\": \"application/json\"\n",
      "    }\n",
      "  ],\n",
      "  \"assets\": {\n",
      "    \"image\": {\n",
      "      \"href\": \"../../masam2_minconc40_source_20140127_v2.png\",\n",
      "      \"type\": \"image/png\"\n",
      "    }\n",
      "  },\n",
      "  \"bbox\": [\n",
      "    0.0,\n",
      "    2550.0,\n",
      "    2100.0,\n",
      "    0.0\n",
      "  ],\n",
      "  \"stac_extensions\": []\n",
      "}\n"
     ]
    }
   ],
   "source": [
    "with open(item.get_self_href()) as f:\n",
    "    print(f.read())"
   ]
  },
  {
   "cell_type": "code",
   "execution_count": 29,
   "id": "1e72d70c-524d-4faf-9cbe-d8d3d1d140a3",
   "metadata": {},
   "outputs": [],
   "source": [
    "tmp_dir.cleanup()"
   ]
  }
 ],
 "metadata": {
  "kernelspec": {
   "display_name": "Python 3 (ipykernel)",
   "language": "python",
   "name": "python3"
  },
  "language_info": {
   "codemirror_mode": {
    "name": "ipython",
    "version": 3
   },
   "file_extension": ".py",
   "mimetype": "text/x-python",
   "name": "python",
   "nbconvert_exporter": "python",
   "pygments_lexer": "ipython3",
   "version": "3.11.9"
  }
 },
 "nbformat": 4,
 "nbformat_minor": 5
}
