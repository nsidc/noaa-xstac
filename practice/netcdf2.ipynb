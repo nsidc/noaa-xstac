{
 "cells": [
  {
   "cell_type": "code",
   "execution_count": 1,
   "id": "ff24730d-98a9-475e-83fe-d003262c7a2f",
   "metadata": {},
   "outputs": [],
   "source": [
    "import sys\n",
    "import argparse\n",
    "import json\n",
    "import fsspec\n",
    "import xarray as xr\n",
    "from pathlib import Path\n",
    "\n",
    "import xstac\n",
    "import pystac\n",
    "import shapely.geometry\n"
   ]
  },
  {
   "cell_type": "code",
   "execution_count": 2,
   "id": "204d788e-df92-46cc-8078-23b84ff9c177",
   "metadata": {},
   "outputs": [],
   "source": [
    "DESC = {\n",
    "    \"daily\": \"\",  \n",
    "    \"monthly\": \"\",  \n",
    "    \"annual\": \"\",  \n",
    "}"
   ]
  },
  {
   "cell_type": "code",
   "execution_count": null,
   "id": "d9248da0-1087-4451-84e3-52c2ec36b7ee",
   "metadata": {},
   "outputs": [],
   "source": []
  }
 ],
 "metadata": {
  "kernelspec": {
   "display_name": "Python 3 (ipykernel)",
   "language": "python",
   "name": "python3"
  },
  "language_info": {
   "codemirror_mode": {
    "name": "ipython",
    "version": 3
   },
   "file_extension": ".py",
   "mimetype": "text/x-python",
   "name": "python",
   "nbconvert_exporter": "python",
   "pygments_lexer": "ipython3",
   "version": "3.11.9"
  }
 },
 "nbformat": 4,
 "nbformat_minor": 5
}
